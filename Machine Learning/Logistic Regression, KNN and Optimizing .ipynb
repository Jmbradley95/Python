{
 "cells": [
  {
   "cell_type": "markdown",
   "metadata": {},
   "source": [
    "Jonathan Bradley\n",
    "Cs 4319 - Homework 1\n",
    "3/9/2021"
   ]
  },
  {
   "cell_type": "code",
   "execution_count": 125,
   "metadata": {},
   "outputs": [],
   "source": [
    "import pandas as pd\n",
    "import sklearn\n",
    "from sklearn.model_selection import train_test_split\n",
    "from sklearn.linear_model import LogisticRegression\n",
    "from sklearn.metrics import classification_report\n",
    "from sklearn.metrics import accuracy_score\n",
    "from sklearn.neighbors import KNeighborsClassifier\n"
   ]
  },
  {
   "cell_type": "code",
   "execution_count": 147,
   "metadata": {},
   "outputs": [
    {
     "data": {
      "text/html": [
       "<div>\n",
       "<style scoped>\n",
       "    .dataframe tbody tr th:only-of-type {\n",
       "        vertical-align: middle;\n",
       "    }\n",
       "\n",
       "    .dataframe tbody tr th {\n",
       "        vertical-align: top;\n",
       "    }\n",
       "\n",
       "    .dataframe thead th {\n",
       "        text-align: right;\n",
       "    }\n",
       "</style>\n",
       "<table border=\"1\" class=\"dataframe\">\n",
       "  <thead>\n",
       "    <tr style=\"text-align: right;\">\n",
       "      <th></th>\n",
       "      <th>VAR1</th>\n",
       "      <th>VAR2</th>\n",
       "      <th>VAR3</th>\n",
       "      <th>VAR4</th>\n",
       "      <th>VAR5</th>\n",
       "      <th>VAR6</th>\n",
       "      <th>CLASS</th>\n",
       "    </tr>\n",
       "  </thead>\n",
       "  <tbody>\n",
       "    <tr>\n",
       "      <th>494</th>\n",
       "      <td>0.696200</td>\n",
       "      <td>0.226145</td>\n",
       "      <td>0.528957</td>\n",
       "      <td>0.607143</td>\n",
       "      <td>0.249187</td>\n",
       "      <td>0.094723</td>\n",
       "      <td>Class_4</td>\n",
       "    </tr>\n",
       "    <tr>\n",
       "      <th>1</th>\n",
       "      <td>0.647223</td>\n",
       "      <td>0.136211</td>\n",
       "      <td>0.000000</td>\n",
       "      <td>0.679511</td>\n",
       "      <td>0.195903</td>\n",
       "      <td>0.987387</td>\n",
       "      <td>Class_1</td>\n",
       "    </tr>\n",
       "    <tr>\n",
       "      <th>331</th>\n",
       "      <td>0.810665</td>\n",
       "      <td>0.252765</td>\n",
       "      <td>0.580438</td>\n",
       "      <td>0.550752</td>\n",
       "      <td>0.322616</td>\n",
       "      <td>0.105873</td>\n",
       "      <td>Class_3</td>\n",
       "    </tr>\n",
       "    <tr>\n",
       "      <th>244</th>\n",
       "      <td>0.755240</td>\n",
       "      <td>0.200710</td>\n",
       "      <td>0.642214</td>\n",
       "      <td>0.786654</td>\n",
       "      <td>0.242248</td>\n",
       "      <td>0.084069</td>\n",
       "      <td>Class2</td>\n",
       "    </tr>\n",
       "    <tr>\n",
       "      <th>339</th>\n",
       "      <td>0.843298</td>\n",
       "      <td>0.259834</td>\n",
       "      <td>0.499356</td>\n",
       "      <td>0.537594</td>\n",
       "      <td>0.360072</td>\n",
       "      <td>0.108833</td>\n",
       "      <td>Class_3</td>\n",
       "    </tr>\n",
       "    <tr>\n",
       "      <th>80</th>\n",
       "      <td>0.704468</td>\n",
       "      <td>0.115137</td>\n",
       "      <td>0.000000</td>\n",
       "      <td>0.719455</td>\n",
       "      <td>0.239354</td>\n",
       "      <td>0.990079</td>\n",
       "      <td>Class_1</td>\n",
       "    </tr>\n",
       "    <tr>\n",
       "      <th>390</th>\n",
       "      <td>0.660168</td>\n",
       "      <td>0.222080</td>\n",
       "      <td>0.477477</td>\n",
       "      <td>0.628759</td>\n",
       "      <td>0.213709</td>\n",
       "      <td>0.093024</td>\n",
       "      <td>Class_4</td>\n",
       "    </tr>\n",
       "    <tr>\n",
       "      <th>220</th>\n",
       "      <td>0.640334</td>\n",
       "      <td>0.112365</td>\n",
       "      <td>0.935650</td>\n",
       "      <td>0.981203</td>\n",
       "      <td>0.151488</td>\n",
       "      <td>0.047065</td>\n",
       "      <td>Class2</td>\n",
       "    </tr>\n",
       "    <tr>\n",
       "      <th>297</th>\n",
       "      <td>0.807615</td>\n",
       "      <td>0.247612</td>\n",
       "      <td>0.536679</td>\n",
       "      <td>0.577068</td>\n",
       "      <td>0.327604</td>\n",
       "      <td>0.103714</td>\n",
       "      <td>Class_3</td>\n",
       "    </tr>\n",
       "    <tr>\n",
       "      <th>28</th>\n",
       "      <td>0.702149</td>\n",
       "      <td>0.120013</td>\n",
       "      <td>0.000000</td>\n",
       "      <td>0.723684</td>\n",
       "      <td>0.243154</td>\n",
       "      <td>0.989897</td>\n",
       "      <td>Class_1</td>\n",
       "    </tr>\n",
       "    <tr>\n",
       "      <th>467</th>\n",
       "      <td>0.664582</td>\n",
       "      <td>0.225895</td>\n",
       "      <td>0.510939</td>\n",
       "      <td>0.613722</td>\n",
       "      <td>0.217879</td>\n",
       "      <td>0.094623</td>\n",
       "      <td>Class_4</td>\n",
       "    </tr>\n",
       "    <tr>\n",
       "      <th>411</th>\n",
       "      <td>0.666698</td>\n",
       "      <td>0.213868</td>\n",
       "      <td>0.531531</td>\n",
       "      <td>0.615602</td>\n",
       "      <td>0.233265</td>\n",
       "      <td>0.089580</td>\n",
       "      <td>Class_4</td>\n",
       "    </tr>\n",
       "    <tr>\n",
       "      <th>402</th>\n",
       "      <td>0.696410</td>\n",
       "      <td>0.220597</td>\n",
       "      <td>0.541828</td>\n",
       "      <td>0.595865</td>\n",
       "      <td>0.257204</td>\n",
       "      <td>0.092403</td>\n",
       "      <td>Class_4</td>\n",
       "    </tr>\n",
       "    <tr>\n",
       "      <th>347</th>\n",
       "      <td>0.817098</td>\n",
       "      <td>0.248914</td>\n",
       "      <td>0.570142</td>\n",
       "      <td>0.563910</td>\n",
       "      <td>0.342627</td>\n",
       "      <td>0.104260</td>\n",
       "      <td>Class_3</td>\n",
       "    </tr>\n",
       "    <tr>\n",
       "      <th>363</th>\n",
       "      <td>0.776820</td>\n",
       "      <td>0.234022</td>\n",
       "      <td>0.523810</td>\n",
       "      <td>0.555451</td>\n",
       "      <td>0.300482</td>\n",
       "      <td>0.098024</td>\n",
       "      <td>Class_3</td>\n",
       "    </tr>\n",
       "  </tbody>\n",
       "</table>\n",
       "</div>"
      ],
      "text/plain": [
       "         VAR1      VAR2      VAR3      VAR4      VAR5      VAR6    CLASS\n",
       "494  0.696200  0.226145  0.528957  0.607143  0.249187  0.094723  Class_4\n",
       "1    0.647223  0.136211  0.000000  0.679511  0.195903  0.987387  Class_1\n",
       "331  0.810665  0.252765  0.580438  0.550752  0.322616  0.105873  Class_3\n",
       "244  0.755240  0.200710  0.642214  0.786654  0.242248  0.084069   Class2\n",
       "339  0.843298  0.259834  0.499356  0.537594  0.360072  0.108833  Class_3\n",
       "80   0.704468  0.115137  0.000000  0.719455  0.239354  0.990079  Class_1\n",
       "390  0.660168  0.222080  0.477477  0.628759  0.213709  0.093024  Class_4\n",
       "220  0.640334  0.112365  0.935650  0.981203  0.151488  0.047065   Class2\n",
       "297  0.807615  0.247612  0.536679  0.577068  0.327604  0.103714  Class_3\n",
       "28   0.702149  0.120013  0.000000  0.723684  0.243154  0.989897  Class_1\n",
       "467  0.664582  0.225895  0.510939  0.613722  0.217879  0.094623  Class_4\n",
       "411  0.666698  0.213868  0.531531  0.615602  0.233265  0.089580  Class_4\n",
       "402  0.696410  0.220597  0.541828  0.595865  0.257204  0.092403  Class_4\n",
       "347  0.817098  0.248914  0.570142  0.563910  0.342627  0.104260  Class_3\n",
       "363  0.776820  0.234022  0.523810  0.555451  0.300482  0.098024  Class_3"
      ]
     },
     "execution_count": 147,
     "metadata": {},
     "output_type": "execute_result"
    }
   ],
   "source": [
    "DF = pd.read_csv(r\"C:\\Users\\jonat\\Desktop\\school\\Spring 2021\\CS 4319 - Machine Learning\\Homework1\\BDParkinson_Prediction.csv\")\n",
    "DF.sample(15)"
   ]
  },
  {
   "cell_type": "code",
   "execution_count": 148,
   "metadata": {},
   "outputs": [
    {
     "data": {
      "text/plain": [
       "Class_2    125\n",
       "Class_1    125\n",
       "Class_4    125\n",
       "Class_3    125\n",
       "Name: CLASS, dtype: int64"
      ]
     },
     "execution_count": 148,
     "metadata": {},
     "output_type": "execute_result"
    }
   ],
   "source": [
    "DF['CLASS'].replace({'Class2': 'Class_2'}, inplace = True)\n",
    "DF['CLASS'].value_counts()"
   ]
  },
  {
   "cell_type": "code",
   "execution_count": 149,
   "metadata": {},
   "outputs": [
    {
     "name": "stdout",
     "output_type": "stream",
     "text": [
      "Index(['VAR1', 'VAR2', 'VAR3', 'VAR4', 'VAR5', 'VAR6'], dtype='object')\n",
      "CLASS\n"
     ]
    }
   ],
   "source": [
    "features = DF.columns[:6]\n",
    "label = DF.columns[-1]\n",
    "print(f'{features}\\n{label}')"
   ]
  },
  {
   "cell_type": "code",
   "execution_count": 150,
   "metadata": {},
   "outputs": [],
   "source": [
    "X = DF[features]\n",
    "Y = DF[label]"
   ]
  },
  {
   "cell_type": "code",
   "execution_count": 151,
   "metadata": {},
   "outputs": [
    {
     "name": "stdout",
     "output_type": "stream",
     "text": [
      "         VAR1      VAR2      VAR3      VAR4      VAR5      VAR6\n",
      "0    0.624731  0.135424  0.000000  0.675282  0.182203  0.962960\n",
      "1    0.647223  0.136211  0.000000  0.679511  0.195903  0.987387\n",
      "2    0.706352  0.187593  0.000000  0.632989  0.244884  0.991182\n",
      "3    0.680291  0.192076  0.000000  0.651786  0.233528  0.991857\n",
      "4    0.660104  0.161131  0.000000  0.677162  0.209531  0.991066\n",
      "5    0.613417  0.139781  0.000000  0.694079  0.195339  0.990384\n",
      "6    0.616898  0.140754  0.000000  0.723214  0.209619  0.990327\n",
      "7    0.656328  0.154513  0.000000  0.710056  0.233812  0.990833\n",
      "8    0.669818  0.149971  0.000000  0.701598  0.218213  0.990577\n",
      "9    0.613236  0.110929  0.000000  0.734492  0.165860  0.989756\n",
      "10   0.631720  0.117446  0.000000  0.716635  0.181714  0.990120\n",
      "11   0.689303  0.125571  0.000000  0.705827  0.217929  0.989755\n",
      "12   0.690087  0.129420  0.000000  0.690319  0.225446  0.990173\n",
      "13   0.678321  0.120775  0.000000  0.717105  0.217877  0.989766\n",
      "14   0.687415  0.120485  0.000000  0.722744  0.227580  0.990243\n",
      "15   0.676921  0.118504  0.000000  0.716635  0.222361  0.989966\n",
      "16   0.694055  0.119934  0.000000  0.721335  0.233230  0.989968\n",
      "17   0.698408  0.119430  0.000000  0.740132  0.233482  0.989813\n",
      "18   0.734515  0.125630  0.000000  0.724624  0.269316  0.990084\n",
      "19   0.712640  0.119829  0.000000  0.714286  0.250335  0.989953\n",
      "20   0.691950  0.117991  0.000000  0.726974  0.231771  0.989878\n",
      "21   0.743741  0.130550  0.000000  0.721804  0.274397  0.990132\n",
      "22   0.751567  0.145362  0.000000  0.697838  0.306567  0.990575\n",
      "23   0.715970  0.122680  0.000000  0.707237  0.252890  0.990070\n",
      "24   0.693047  0.116412  0.000000  0.726034  0.242457  0.989789\n",
      "25   0.700788  0.112034  0.000000  0.740132  0.235251  0.989827\n",
      "26   0.745804  0.127693  0.000000  0.721804  0.288464  0.990106\n",
      "27   0.726714  0.136804  0.000000  0.710526  0.287765  0.990554\n",
      "28   0.702149  0.120013  0.000000  0.723684  0.243154  0.989897\n",
      "29   0.736168  0.129520  0.000000  0.703947  0.284616  0.990244\n",
      "..        ...       ...       ...       ...       ...       ...\n",
      "470  0.709074  0.228075  0.528957  0.579887  0.268168  0.095531\n",
      "471  0.711015  0.228843  0.504505  0.561090  0.256824  0.095853\n",
      "472  0.693528  0.229559  0.494208  0.598684  0.248215  0.096157\n",
      "473  0.684879  0.219815  0.499356  0.599624  0.239110  0.092077\n",
      "474  0.676305  0.215378  0.539253  0.595865  0.222344  0.090216\n",
      "475  0.704998  0.232180  0.509652  0.589286  0.268309  0.097254\n",
      "476  0.695812  0.226348  0.485200  0.609023  0.246478  0.094808\n",
      "477  0.679949  0.221304  0.549550  0.592105  0.231025  0.092695\n",
      "478  0.745066  0.251246  0.521235  0.572368  0.301252  0.105241\n",
      "479  0.700987  0.224022  0.518661  0.587406  0.256996  0.093839\n",
      "480  0.681196  0.213185  0.513514  0.585526  0.237952  0.089296\n",
      "481  0.661557  0.220298  0.522523  0.595865  0.216307  0.092281\n",
      "482  0.664742  0.208956  0.541828  0.583647  0.214731  0.087523\n",
      "483  0.655309  0.208568  0.487773  0.611842  0.208682  0.087360\n",
      "484  0.664845  0.222578  0.495495  0.609023  0.228103  0.093230\n",
      "485  0.668835  0.203883  0.548262  0.597744  0.227372  0.085401\n",
      "486  0.688195  0.220549  0.518661  0.613722  0.251657  0.092381\n",
      "487  0.696097  0.222319  0.510939  0.571429  0.248059  0.093124\n",
      "488  0.668945  0.210934  0.513514  0.606203  0.219212  0.088353\n",
      "489  0.661775  0.215463  0.531531  0.595865  0.215573  0.090249\n",
      "490  0.665782  0.217447  0.519948  0.596804  0.222356  0.091080\n",
      "491  0.674602  0.217497  0.513514  0.588346  0.229601  0.091115\n",
      "492  0.703267  0.224573  0.564994  0.582707  0.258048  0.094064\n",
      "493  0.719632  0.221810  0.531531  0.583647  0.280918  0.092911\n",
      "494  0.696200  0.226145  0.528957  0.607143  0.249187  0.094723\n",
      "495  0.712586  0.219776  0.510939  0.593045  0.268087  0.092055\n",
      "496  0.686058  0.224004  0.518661  0.600564  0.253298  0.093827\n",
      "497  0.698661  0.216604  0.505791  0.591165  0.241696  0.090734\n",
      "498  0.714926  0.222613  0.562420  0.587406  0.271037  0.093245\n",
      "499  0.698690  0.219577  0.541828  0.583647  0.258280  0.091973\n",
      "\n",
      "[500 rows x 6 columns] 0      Class_1\n",
      "1      Class_1\n",
      "2      Class_1\n",
      "3      Class_1\n",
      "4      Class_1\n",
      "5      Class_1\n",
      "6      Class_1\n",
      "7      Class_1\n",
      "8      Class_1\n",
      "9      Class_1\n",
      "10     Class_1\n",
      "11     Class_1\n",
      "12     Class_1\n",
      "13     Class_1\n",
      "14     Class_1\n",
      "15     Class_1\n",
      "16     Class_1\n",
      "17     Class_1\n",
      "18     Class_1\n",
      "19     Class_1\n",
      "20     Class_1\n",
      "21     Class_1\n",
      "22     Class_1\n",
      "23     Class_1\n",
      "24     Class_1\n",
      "25     Class_1\n",
      "26     Class_1\n",
      "27     Class_1\n",
      "28     Class_1\n",
      "29     Class_1\n",
      "        ...   \n",
      "470    Class_4\n",
      "471    Class_4\n",
      "472    Class_4\n",
      "473    Class_4\n",
      "474    Class_4\n",
      "475    Class_4\n",
      "476    Class_4\n",
      "477    Class_4\n",
      "478    Class_4\n",
      "479    Class_4\n",
      "480    Class_4\n",
      "481    Class_4\n",
      "482    Class_4\n",
      "483    Class_4\n",
      "484    Class_4\n",
      "485    Class_4\n",
      "486    Class_4\n",
      "487    Class_4\n",
      "488    Class_4\n",
      "489    Class_4\n",
      "490    Class_4\n",
      "491    Class_4\n",
      "492    Class_4\n",
      "493    Class_4\n",
      "494    Class_4\n",
      "495    Class_4\n",
      "496    Class_4\n",
      "497    Class_4\n",
      "498    Class_4\n",
      "499    Class_4\n",
      "Name: CLASS, Length: 500, dtype: object\n"
     ]
    }
   ],
   "source": [
    "print(X,Y)"
   ]
  },
  {
   "cell_type": "code",
   "execution_count": 1,
   "metadata": {},
   "outputs": [
    {
     "ename": "NameError",
     "evalue": "name 'train_test_split' is not defined",
     "output_type": "error",
     "traceback": [
      "\u001b[1;31m---------------------------------------------------------------------------\u001b[0m",
      "\u001b[1;31mNameError\u001b[0m                                 Traceback (most recent call last)",
      "\u001b[1;32m<ipython-input-1-e1f383c287aa>\u001b[0m in \u001b[0;36m<module>\u001b[1;34m\u001b[0m\n\u001b[1;32m----> 1\u001b[1;33m \u001b[0mX_train\u001b[0m\u001b[1;33m,\u001b[0m \u001b[0mX_test\u001b[0m\u001b[1;33m,\u001b[0m \u001b[0my_train\u001b[0m\u001b[1;33m,\u001b[0m \u001b[0my_test\u001b[0m \u001b[1;33m=\u001b[0m \u001b[0mtrain_test_split\u001b[0m\u001b[1;33m(\u001b[0m\u001b[0mX\u001b[0m\u001b[1;33m,\u001b[0m\u001b[0mY\u001b[0m\u001b[1;33m,\u001b[0m \u001b[0mrandom_state\u001b[0m \u001b[1;33m=\u001b[0m \u001b[1;36m42\u001b[0m\u001b[1;33m)\u001b[0m\u001b[1;33m\u001b[0m\u001b[1;33m\u001b[0m\u001b[0m\n\u001b[0m",
      "\u001b[1;31mNameError\u001b[0m: name 'train_test_split' is not defined"
     ]
    }
   ],
   "source": [
    " X_train, X_test, y_train, y_test = train_test_split(X,Y, random_state = 42)"
   ]
  },
  {
   "cell_type": "markdown",
   "metadata": {},
   "source": [
    "Logistic Regression Model:"
   ]
  },
  {
   "cell_type": "code",
   "execution_count": 153,
   "metadata": {},
   "outputs": [
    {
     "name": "stdout",
     "output_type": "stream",
     "text": [
      "              precision    recall  f1-score   support\n",
      "\n",
      "     Class_1       1.00      1.00      1.00        36\n",
      "     Class_2       1.00      0.92      0.96        25\n",
      "     Class_3       0.89      1.00      0.94        31\n",
      "     Class_4       1.00      0.94      0.97        33\n",
      "\n",
      "    accuracy                           0.97       125\n",
      "   macro avg       0.97      0.96      0.97       125\n",
      "weighted avg       0.97      0.97      0.97       125\n",
      "\n"
     ]
    },
    {
     "name": "stderr",
     "output_type": "stream",
     "text": [
      "C:\\Users\\jonat\\Anaconda3\\lib\\site-packages\\sklearn\\linear_model\\logistic.py:432: FutureWarning: Default solver will be changed to 'lbfgs' in 0.22. Specify a solver to silence this warning.\n",
      "  FutureWarning)\n"
     ]
    }
   ],
   "source": [
    "lr = LogisticRegression(multi_class = 'ovr')\n",
    "lrt = lr.fit(X_train, y_train)\n",
    "y_predict_lr = lrt.predict(X_test)\n",
    "print(classification_report(y_test,y_predict_lr))"
   ]
  },
  {
   "cell_type": "markdown",
   "metadata": {},
   "source": [
    "K-Nearest Neighbor Model"
   ]
  },
  {
   "cell_type": "code",
   "execution_count": 154,
   "metadata": {},
   "outputs": [
    {
     "name": "stdout",
     "output_type": "stream",
     "text": [
      "              precision    recall  f1-score   support\n",
      "\n",
      "     Class_1       1.00      1.00      1.00        36\n",
      "     Class_2       1.00      1.00      1.00        25\n",
      "     Class_3       1.00      1.00      1.00        31\n",
      "     Class_4       1.00      1.00      1.00        33\n",
      "\n",
      "    accuracy                           1.00       125\n",
      "   macro avg       1.00      1.00      1.00       125\n",
      "weighted avg       1.00      1.00      1.00       125\n",
      "\n"
     ]
    }
   ],
   "source": [
    "knn = KNeighborsClassifier(n_neighbors = 5)\n",
    "knn_fitted = knn.fit(X_train,y_train)\n",
    "y_predict_knn = knn_fitted.predict(X_test)\n",
    "print(classification_report(y_test, y_predict_knn))"
   ]
  },
  {
   "cell_type": "markdown",
   "metadata": {},
   "source": [
    "The K-Nearest Neighbor Model is the better model to use here."
   ]
  },
  {
   "cell_type": "markdown",
   "metadata": {},
   "source": [
    " "
   ]
  },
  {
   "cell_type": "markdown",
   "metadata": {},
   "source": [
    " "
   ]
  },
  {
   "cell_type": "markdown",
   "metadata": {},
   "source": [
    "Part B:"
   ]
  },
  {
   "cell_type": "code",
   "execution_count": 155,
   "metadata": {},
   "outputs": [],
   "source": [
    " from sklearn.model_selection import GridSearchCV"
   ]
  },
  {
   "cell_type": "code",
   "execution_count": 156,
   "metadata": {},
   "outputs": [
    {
     "name": "stderr",
     "output_type": "stream",
     "text": [
      "C:\\Users\\jonat\\Anaconda3\\lib\\site-packages\\sklearn\\linear_model\\logistic.py:432: FutureWarning: Default solver will be changed to 'lbfgs' in 0.22. Specify a solver to silence this warning.\n",
      "  FutureWarning)\n",
      "C:\\Users\\jonat\\Anaconda3\\lib\\site-packages\\sklearn\\linear_model\\logistic.py:469: FutureWarning: Default multi_class will be changed to 'auto' in 0.22. Specify the multi_class option to silence this warning.\n",
      "  \"this warning.\", FutureWarning)\n",
      "C:\\Users\\jonat\\Anaconda3\\lib\\site-packages\\sklearn\\linear_model\\logistic.py:432: FutureWarning: Default solver will be changed to 'lbfgs' in 0.22. Specify a solver to silence this warning.\n",
      "  FutureWarning)\n",
      "C:\\Users\\jonat\\Anaconda3\\lib\\site-packages\\sklearn\\linear_model\\logistic.py:469: FutureWarning: Default multi_class will be changed to 'auto' in 0.22. Specify the multi_class option to silence this warning.\n",
      "  \"this warning.\", FutureWarning)\n",
      "C:\\Users\\jonat\\Anaconda3\\lib\\site-packages\\sklearn\\linear_model\\logistic.py:432: FutureWarning: Default solver will be changed to 'lbfgs' in 0.22. Specify a solver to silence this warning.\n",
      "  FutureWarning)\n",
      "C:\\Users\\jonat\\Anaconda3\\lib\\site-packages\\sklearn\\linear_model\\logistic.py:469: FutureWarning: Default multi_class will be changed to 'auto' in 0.22. Specify the multi_class option to silence this warning.\n",
      "  \"this warning.\", FutureWarning)\n",
      "C:\\Users\\jonat\\Anaconda3\\lib\\site-packages\\sklearn\\linear_model\\logistic.py:432: FutureWarning: Default solver will be changed to 'lbfgs' in 0.22. Specify a solver to silence this warning.\n",
      "  FutureWarning)\n",
      "C:\\Users\\jonat\\Anaconda3\\lib\\site-packages\\sklearn\\linear_model\\logistic.py:469: FutureWarning: Default multi_class will be changed to 'auto' in 0.22. Specify the multi_class option to silence this warning.\n",
      "  \"this warning.\", FutureWarning)\n",
      "C:\\Users\\jonat\\Anaconda3\\lib\\site-packages\\sklearn\\linear_model\\logistic.py:432: FutureWarning: Default solver will be changed to 'lbfgs' in 0.22. Specify a solver to silence this warning.\n",
      "  FutureWarning)\n",
      "C:\\Users\\jonat\\Anaconda3\\lib\\site-packages\\sklearn\\linear_model\\logistic.py:469: FutureWarning: Default multi_class will be changed to 'auto' in 0.22. Specify the multi_class option to silence this warning.\n",
      "  \"this warning.\", FutureWarning)\n",
      "C:\\Users\\jonat\\Anaconda3\\lib\\site-packages\\sklearn\\linear_model\\logistic.py:432: FutureWarning: Default solver will be changed to 'lbfgs' in 0.22. Specify a solver to silence this warning.\n",
      "  FutureWarning)\n",
      "C:\\Users\\jonat\\Anaconda3\\lib\\site-packages\\sklearn\\linear_model\\logistic.py:469: FutureWarning: Default multi_class will be changed to 'auto' in 0.22. Specify the multi_class option to silence this warning.\n",
      "  \"this warning.\", FutureWarning)\n",
      "C:\\Users\\jonat\\Anaconda3\\lib\\site-packages\\sklearn\\linear_model\\logistic.py:432: FutureWarning: Default solver will be changed to 'lbfgs' in 0.22. Specify a solver to silence this warning.\n",
      "  FutureWarning)\n",
      "C:\\Users\\jonat\\Anaconda3\\lib\\site-packages\\sklearn\\linear_model\\logistic.py:469: FutureWarning: Default multi_class will be changed to 'auto' in 0.22. Specify the multi_class option to silence this warning.\n",
      "  \"this warning.\", FutureWarning)\n",
      "C:\\Users\\jonat\\Anaconda3\\lib\\site-packages\\sklearn\\linear_model\\logistic.py:432: FutureWarning: Default solver will be changed to 'lbfgs' in 0.22. Specify a solver to silence this warning.\n",
      "  FutureWarning)\n",
      "C:\\Users\\jonat\\Anaconda3\\lib\\site-packages\\sklearn\\linear_model\\logistic.py:469: FutureWarning: Default multi_class will be changed to 'auto' in 0.22. Specify the multi_class option to silence this warning.\n",
      "  \"this warning.\", FutureWarning)\n",
      "C:\\Users\\jonat\\Anaconda3\\lib\\site-packages\\sklearn\\linear_model\\logistic.py:432: FutureWarning: Default solver will be changed to 'lbfgs' in 0.22. Specify a solver to silence this warning.\n",
      "  FutureWarning)\n",
      "C:\\Users\\jonat\\Anaconda3\\lib\\site-packages\\sklearn\\linear_model\\logistic.py:469: FutureWarning: Default multi_class will be changed to 'auto' in 0.22. Specify the multi_class option to silence this warning.\n",
      "  \"this warning.\", FutureWarning)\n",
      "C:\\Users\\jonat\\Anaconda3\\lib\\site-packages\\sklearn\\linear_model\\logistic.py:432: FutureWarning: Default solver will be changed to 'lbfgs' in 0.22. Specify a solver to silence this warning.\n",
      "  FutureWarning)\n",
      "C:\\Users\\jonat\\Anaconda3\\lib\\site-packages\\sklearn\\linear_model\\logistic.py:469: FutureWarning: Default multi_class will be changed to 'auto' in 0.22. Specify the multi_class option to silence this warning.\n",
      "  \"this warning.\", FutureWarning)\n",
      "C:\\Users\\jonat\\Anaconda3\\lib\\site-packages\\sklearn\\linear_model\\logistic.py:432: FutureWarning: Default solver will be changed to 'lbfgs' in 0.22. Specify a solver to silence this warning.\n",
      "  FutureWarning)\n",
      "C:\\Users\\jonat\\Anaconda3\\lib\\site-packages\\sklearn\\linear_model\\logistic.py:469: FutureWarning: Default multi_class will be changed to 'auto' in 0.22. Specify the multi_class option to silence this warning.\n",
      "  \"this warning.\", FutureWarning)\n",
      "C:\\Users\\jonat\\Anaconda3\\lib\\site-packages\\sklearn\\linear_model\\logistic.py:432: FutureWarning: Default solver will be changed to 'lbfgs' in 0.22. Specify a solver to silence this warning.\n",
      "  FutureWarning)\n",
      "C:\\Users\\jonat\\Anaconda3\\lib\\site-packages\\sklearn\\linear_model\\logistic.py:469: FutureWarning: Default multi_class will be changed to 'auto' in 0.22. Specify the multi_class option to silence this warning.\n",
      "  \"this warning.\", FutureWarning)\n",
      "C:\\Users\\jonat\\Anaconda3\\lib\\site-packages\\sklearn\\linear_model\\logistic.py:432: FutureWarning: Default solver will be changed to 'lbfgs' in 0.22. Specify a solver to silence this warning.\n",
      "  FutureWarning)\n",
      "C:\\Users\\jonat\\Anaconda3\\lib\\site-packages\\sklearn\\linear_model\\logistic.py:469: FutureWarning: Default multi_class will be changed to 'auto' in 0.22. Specify the multi_class option to silence this warning.\n",
      "  \"this warning.\", FutureWarning)\n",
      "C:\\Users\\jonat\\Anaconda3\\lib\\site-packages\\sklearn\\linear_model\\logistic.py:432: FutureWarning: Default solver will be changed to 'lbfgs' in 0.22. Specify a solver to silence this warning.\n",
      "  FutureWarning)\n",
      "C:\\Users\\jonat\\Anaconda3\\lib\\site-packages\\sklearn\\linear_model\\logistic.py:469: FutureWarning: Default multi_class will be changed to 'auto' in 0.22. Specify the multi_class option to silence this warning.\n",
      "  \"this warning.\", FutureWarning)\n",
      "C:\\Users\\jonat\\Anaconda3\\lib\\site-packages\\sklearn\\linear_model\\logistic.py:432: FutureWarning: Default solver will be changed to 'lbfgs' in 0.22. Specify a solver to silence this warning.\n",
      "  FutureWarning)\n",
      "C:\\Users\\jonat\\Anaconda3\\lib\\site-packages\\sklearn\\linear_model\\logistic.py:469: FutureWarning: Default multi_class will be changed to 'auto' in 0.22. Specify the multi_class option to silence this warning.\n",
      "  \"this warning.\", FutureWarning)\n",
      "C:\\Users\\jonat\\Anaconda3\\lib\\site-packages\\sklearn\\linear_model\\logistic.py:432: FutureWarning: Default solver will be changed to 'lbfgs' in 0.22. Specify a solver to silence this warning.\n",
      "  FutureWarning)\n",
      "C:\\Users\\jonat\\Anaconda3\\lib\\site-packages\\sklearn\\linear_model\\logistic.py:469: FutureWarning: Default multi_class will be changed to 'auto' in 0.22. Specify the multi_class option to silence this warning.\n",
      "  \"this warning.\", FutureWarning)\n",
      "C:\\Users\\jonat\\Anaconda3\\lib\\site-packages\\sklearn\\linear_model\\logistic.py:432: FutureWarning: Default solver will be changed to 'lbfgs' in 0.22. Specify a solver to silence this warning.\n",
      "  FutureWarning)\n",
      "C:\\Users\\jonat\\Anaconda3\\lib\\site-packages\\sklearn\\linear_model\\logistic.py:469: FutureWarning: Default multi_class will be changed to 'auto' in 0.22. Specify the multi_class option to silence this warning.\n",
      "  \"this warning.\", FutureWarning)\n",
      "C:\\Users\\jonat\\Anaconda3\\lib\\site-packages\\sklearn\\linear_model\\logistic.py:432: FutureWarning: Default solver will be changed to 'lbfgs' in 0.22. Specify a solver to silence this warning.\n",
      "  FutureWarning)\n",
      "C:\\Users\\jonat\\Anaconda3\\lib\\site-packages\\sklearn\\linear_model\\logistic.py:469: FutureWarning: Default multi_class will be changed to 'auto' in 0.22. Specify the multi_class option to silence this warning.\n",
      "  \"this warning.\", FutureWarning)\n",
      "C:\\Users\\jonat\\Anaconda3\\lib\\site-packages\\sklearn\\linear_model\\logistic.py:432: FutureWarning: Default solver will be changed to 'lbfgs' in 0.22. Specify a solver to silence this warning.\n",
      "  FutureWarning)\n",
      "C:\\Users\\jonat\\Anaconda3\\lib\\site-packages\\sklearn\\linear_model\\logistic.py:469: FutureWarning: Default multi_class will be changed to 'auto' in 0.22. Specify the multi_class option to silence this warning.\n",
      "  \"this warning.\", FutureWarning)\n",
      "C:\\Users\\jonat\\Anaconda3\\lib\\site-packages\\sklearn\\linear_model\\logistic.py:432: FutureWarning: Default solver will be changed to 'lbfgs' in 0.22. Specify a solver to silence this warning.\n",
      "  FutureWarning)\n",
      "C:\\Users\\jonat\\Anaconda3\\lib\\site-packages\\sklearn\\linear_model\\logistic.py:469: FutureWarning: Default multi_class will be changed to 'auto' in 0.22. Specify the multi_class option to silence this warning.\n",
      "  \"this warning.\", FutureWarning)\n",
      "C:\\Users\\jonat\\Anaconda3\\lib\\site-packages\\sklearn\\linear_model\\logistic.py:432: FutureWarning: Default solver will be changed to 'lbfgs' in 0.22. Specify a solver to silence this warning.\n",
      "  FutureWarning)\n",
      "C:\\Users\\jonat\\Anaconda3\\lib\\site-packages\\sklearn\\linear_model\\logistic.py:469: FutureWarning: Default multi_class will be changed to 'auto' in 0.22. Specify the multi_class option to silence this warning.\n",
      "  \"this warning.\", FutureWarning)\n",
      "C:\\Users\\jonat\\Anaconda3\\lib\\site-packages\\sklearn\\linear_model\\logistic.py:432: FutureWarning: Default solver will be changed to 'lbfgs' in 0.22. Specify a solver to silence this warning.\n",
      "  FutureWarning)\n",
      "C:\\Users\\jonat\\Anaconda3\\lib\\site-packages\\sklearn\\linear_model\\logistic.py:469: FutureWarning: Default multi_class will be changed to 'auto' in 0.22. Specify the multi_class option to silence this warning.\n",
      "  \"this warning.\", FutureWarning)\n",
      "C:\\Users\\jonat\\Anaconda3\\lib\\site-packages\\sklearn\\linear_model\\logistic.py:432: FutureWarning: Default solver will be changed to 'lbfgs' in 0.22. Specify a solver to silence this warning.\n",
      "  FutureWarning)\n",
      "C:\\Users\\jonat\\Anaconda3\\lib\\site-packages\\sklearn\\linear_model\\logistic.py:469: FutureWarning: Default multi_class will be changed to 'auto' in 0.22. Specify the multi_class option to silence this warning.\n",
      "  \"this warning.\", FutureWarning)\n",
      "C:\\Users\\jonat\\Anaconda3\\lib\\site-packages\\sklearn\\linear_model\\logistic.py:432: FutureWarning: Default solver will be changed to 'lbfgs' in 0.22. Specify a solver to silence this warning.\n",
      "  FutureWarning)\n",
      "C:\\Users\\jonat\\Anaconda3\\lib\\site-packages\\sklearn\\linear_model\\logistic.py:469: FutureWarning: Default multi_class will be changed to 'auto' in 0.22. Specify the multi_class option to silence this warning.\n",
      "  \"this warning.\", FutureWarning)\n",
      "C:\\Users\\jonat\\Anaconda3\\lib\\site-packages\\sklearn\\linear_model\\logistic.py:432: FutureWarning: Default solver will be changed to 'lbfgs' in 0.22. Specify a solver to silence this warning.\n",
      "  FutureWarning)\n",
      "C:\\Users\\jonat\\Anaconda3\\lib\\site-packages\\sklearn\\linear_model\\logistic.py:469: FutureWarning: Default multi_class will be changed to 'auto' in 0.22. Specify the multi_class option to silence this warning.\n",
      "  \"this warning.\", FutureWarning)\n",
      "C:\\Users\\jonat\\Anaconda3\\lib\\site-packages\\sklearn\\linear_model\\logistic.py:432: FutureWarning: Default solver will be changed to 'lbfgs' in 0.22. Specify a solver to silence this warning.\n",
      "  FutureWarning)\n",
      "C:\\Users\\jonat\\Anaconda3\\lib\\site-packages\\sklearn\\linear_model\\logistic.py:469: FutureWarning: Default multi_class will be changed to 'auto' in 0.22. Specify the multi_class option to silence this warning.\n",
      "  \"this warning.\", FutureWarning)\n",
      "C:\\Users\\jonat\\Anaconda3\\lib\\site-packages\\sklearn\\linear_model\\logistic.py:432: FutureWarning: Default solver will be changed to 'lbfgs' in 0.22. Specify a solver to silence this warning.\n",
      "  FutureWarning)\n",
      "C:\\Users\\jonat\\Anaconda3\\lib\\site-packages\\sklearn\\linear_model\\logistic.py:469: FutureWarning: Default multi_class will be changed to 'auto' in 0.22. Specify the multi_class option to silence this warning.\n",
      "  \"this warning.\", FutureWarning)\n",
      "C:\\Users\\jonat\\Anaconda3\\lib\\site-packages\\sklearn\\linear_model\\logistic.py:432: FutureWarning: Default solver will be changed to 'lbfgs' in 0.22. Specify a solver to silence this warning.\n",
      "  FutureWarning)\n",
      "C:\\Users\\jonat\\Anaconda3\\lib\\site-packages\\sklearn\\linear_model\\logistic.py:469: FutureWarning: Default multi_class will be changed to 'auto' in 0.22. Specify the multi_class option to silence this warning.\n",
      "  \"this warning.\", FutureWarning)\n",
      "C:\\Users\\jonat\\Anaconda3\\lib\\site-packages\\sklearn\\linear_model\\logistic.py:432: FutureWarning: Default solver will be changed to 'lbfgs' in 0.22. Specify a solver to silence this warning.\n",
      "  FutureWarning)\n",
      "C:\\Users\\jonat\\Anaconda3\\lib\\site-packages\\sklearn\\linear_model\\logistic.py:469: FutureWarning: Default multi_class will be changed to 'auto' in 0.22. Specify the multi_class option to silence this warning.\n",
      "  \"this warning.\", FutureWarning)\n",
      "C:\\Users\\jonat\\Anaconda3\\lib\\site-packages\\sklearn\\linear_model\\logistic.py:432: FutureWarning: Default solver will be changed to 'lbfgs' in 0.22. Specify a solver to silence this warning.\n",
      "  FutureWarning)\n",
      "C:\\Users\\jonat\\Anaconda3\\lib\\site-packages\\sklearn\\linear_model\\logistic.py:469: FutureWarning: Default multi_class will be changed to 'auto' in 0.22. Specify the multi_class option to silence this warning.\n",
      "  \"this warning.\", FutureWarning)\n",
      "C:\\Users\\jonat\\Anaconda3\\lib\\site-packages\\sklearn\\linear_model\\logistic.py:432: FutureWarning: Default solver will be changed to 'lbfgs' in 0.22. Specify a solver to silence this warning.\n",
      "  FutureWarning)\n",
      "C:\\Users\\jonat\\Anaconda3\\lib\\site-packages\\sklearn\\linear_model\\logistic.py:469: FutureWarning: Default multi_class will be changed to 'auto' in 0.22. Specify the multi_class option to silence this warning.\n",
      "  \"this warning.\", FutureWarning)\n",
      "C:\\Users\\jonat\\Anaconda3\\lib\\site-packages\\sklearn\\linear_model\\logistic.py:432: FutureWarning: Default solver will be changed to 'lbfgs' in 0.22. Specify a solver to silence this warning.\n",
      "  FutureWarning)\n",
      "C:\\Users\\jonat\\Anaconda3\\lib\\site-packages\\sklearn\\linear_model\\logistic.py:469: FutureWarning: Default multi_class will be changed to 'auto' in 0.22. Specify the multi_class option to silence this warning.\n",
      "  \"this warning.\", FutureWarning)\n",
      "C:\\Users\\jonat\\Anaconda3\\lib\\site-packages\\sklearn\\linear_model\\logistic.py:432: FutureWarning: Default solver will be changed to 'lbfgs' in 0.22. Specify a solver to silence this warning.\n",
      "  FutureWarning)\n",
      "C:\\Users\\jonat\\Anaconda3\\lib\\site-packages\\sklearn\\linear_model\\logistic.py:469: FutureWarning: Default multi_class will be changed to 'auto' in 0.22. Specify the multi_class option to silence this warning.\n",
      "  \"this warning.\", FutureWarning)\n",
      "C:\\Users\\jonat\\Anaconda3\\lib\\site-packages\\sklearn\\linear_model\\logistic.py:432: FutureWarning: Default solver will be changed to 'lbfgs' in 0.22. Specify a solver to silence this warning.\n",
      "  FutureWarning)\n",
      "C:\\Users\\jonat\\Anaconda3\\lib\\site-packages\\sklearn\\linear_model\\logistic.py:469: FutureWarning: Default multi_class will be changed to 'auto' in 0.22. Specify the multi_class option to silence this warning.\n",
      "  \"this warning.\", FutureWarning)\n",
      "C:\\Users\\jonat\\Anaconda3\\lib\\site-packages\\sklearn\\linear_model\\logistic.py:432: FutureWarning: Default solver will be changed to 'lbfgs' in 0.22. Specify a solver to silence this warning.\n",
      "  FutureWarning)\n",
      "C:\\Users\\jonat\\Anaconda3\\lib\\site-packages\\sklearn\\linear_model\\logistic.py:469: FutureWarning: Default multi_class will be changed to 'auto' in 0.22. Specify the multi_class option to silence this warning.\n",
      "  \"this warning.\", FutureWarning)\n",
      "C:\\Users\\jonat\\Anaconda3\\lib\\site-packages\\sklearn\\model_selection\\_search.py:813: DeprecationWarning: The default of the `iid` parameter will change from True to False in version 0.22 and will be removed in 0.24. This will change numeric results when test-set sizes are unequal.\n",
      "  DeprecationWarning)\n",
      "C:\\Users\\jonat\\Anaconda3\\lib\\site-packages\\sklearn\\linear_model\\logistic.py:432: FutureWarning: Default solver will be changed to 'lbfgs' in 0.22. Specify a solver to silence this warning.\n",
      "  FutureWarning)\n",
      "C:\\Users\\jonat\\Anaconda3\\lib\\site-packages\\sklearn\\linear_model\\logistic.py:469: FutureWarning: Default multi_class will be changed to 'auto' in 0.22. Specify the multi_class option to silence this warning.\n",
      "  \"this warning.\", FutureWarning)\n"
     ]
    },
    {
     "data": {
      "text/plain": [
       "0.9893333333333333"
      ]
     },
     "execution_count": 156,
     "metadata": {},
     "output_type": "execute_result"
    }
   ],
   "source": [
    "param_grid = {'C':[.001, .01, .1, 1, 10, 100, 1000]}\n",
    "GS = GridSearchCV(LogisticRegression(max_iter = 1000), param_grid, cv = 5)\n",
    "GS_fitted_lr = GS.fit(X_train, y_train)\n",
    "GS_fitted_lr.best_score_"
   ]
  },
  {
   "cell_type": "code",
   "execution_count": 157,
   "metadata": {},
   "outputs": [
    {
     "data": {
      "text/plain": [
       "{'C': 100}"
      ]
     },
     "execution_count": 157,
     "metadata": {},
     "output_type": "execute_result"
    }
   ],
   "source": [
    "GS_fitted_lr.best_params_"
   ]
  },
  {
   "cell_type": "code",
   "execution_count": 158,
   "metadata": {
    "scrolled": true
   },
   "outputs": [
    {
     "data": {
      "text/plain": [
       "LogisticRegression(C=100, class_weight=None, dual=False, fit_intercept=True,\n",
       "                   intercept_scaling=1, l1_ratio=None, max_iter=1000,\n",
       "                   multi_class='warn', n_jobs=None, penalty='l2',\n",
       "                   random_state=None, solver='warn', tol=0.0001, verbose=0,\n",
       "                   warm_start=False)"
      ]
     },
     "execution_count": 158,
     "metadata": {},
     "output_type": "execute_result"
    }
   ],
   "source": [
    "GS_fitted_lr.best_estimator_"
   ]
  },
  {
   "cell_type": "markdown",
   "metadata": {},
   "source": [
    "Logistic Regression Optimized"
   ]
  },
  {
   "cell_type": "code",
   "execution_count": 159,
   "metadata": {},
   "outputs": [
    {
     "name": "stdout",
     "output_type": "stream",
     "text": [
      "              precision    recall  f1-score   support\n",
      "\n",
      "     Class_1       1.00      1.00      1.00        36\n",
      "     Class_2       1.00      0.96      0.98        25\n",
      "     Class_3       0.97      1.00      0.98        31\n",
      "     Class_4       1.00      1.00      1.00        33\n",
      "\n",
      "    accuracy                           0.99       125\n",
      "   macro avg       0.99      0.99      0.99       125\n",
      "weighted avg       0.99      0.99      0.99       125\n",
      "\n"
     ]
    }
   ],
   "source": [
    "y_predict_lr_opt = GS_fitted_lr.best_estimator_.predict(X_test)\n",
    "print(classification_report(y_test, y_predict_lr_opt))"
   ]
  },
  {
   "cell_type": "markdown",
   "metadata": {},
   "source": [
    "This is after optimization ^"
   ]
  },
  {
   "cell_type": "markdown",
   "metadata": {},
   "source": [
    "K-Nearest Neighbor Optimized"
   ]
  },
  {
   "cell_type": "code",
   "execution_count": 160,
   "metadata": {},
   "outputs": [
    {
     "data": {
      "text/plain": [
       "0.992"
      ]
     },
     "execution_count": 160,
     "metadata": {},
     "output_type": "execute_result"
    }
   ],
   "source": [
    "param_grid = {'n_neighbors': [3,5,7,9,11], 'metric': ['euclidean', 'manhattan']}\n",
    "GS = GridSearchCV(KNeighborsClassifier(), param_grid, cv = 5)\n",
    "GS_fitted_knn = GS.fit(X_train, y_train)\n",
    "GS_fitted_knn.best_score_"
   ]
  },
  {
   "cell_type": "code",
   "execution_count": 161,
   "metadata": {},
   "outputs": [
    {
     "data": {
      "text/plain": [
       "{'metric': 'euclidean', 'n_neighbors': 3}"
      ]
     },
     "execution_count": 161,
     "metadata": {},
     "output_type": "execute_result"
    }
   ],
   "source": [
    "GS_fitted_knn.best_params_"
   ]
  },
  {
   "cell_type": "code",
   "execution_count": 162,
   "metadata": {},
   "outputs": [
    {
     "name": "stdout",
     "output_type": "stream",
     "text": [
      "              precision    recall  f1-score   support\n",
      "\n",
      "     Class_1       1.00      1.00      1.00        36\n",
      "     Class_2       1.00      1.00      1.00        25\n",
      "     Class_3       1.00      1.00      1.00        31\n",
      "     Class_4       1.00      1.00      1.00        33\n",
      "\n",
      "    accuracy                           1.00       125\n",
      "   macro avg       1.00      1.00      1.00       125\n",
      "weighted avg       1.00      1.00      1.00       125\n",
      "\n"
     ]
    }
   ],
   "source": [
    "y_predict_knn_opt = GS_fitted_knn.best_estimator_.predict(X_test)\n",
    "print(classification_report(y_test, y_predict_knn_opt))"
   ]
  },
  {
   "cell_type": "markdown",
   "metadata": {},
   "source": [
    "This is after optimization ^"
   ]
  }
 ],
 "metadata": {
  "kernelspec": {
   "display_name": "Python 3",
   "language": "python",
   "name": "python3"
  },
  "language_info": {
   "codemirror_mode": {
    "name": "ipython",
    "version": 3
   },
   "file_extension": ".py",
   "mimetype": "text/x-python",
   "name": "python",
   "nbconvert_exporter": "python",
   "pygments_lexer": "ipython3",
   "version": "3.7.3"
  }
 },
 "nbformat": 4,
 "nbformat_minor": 2
}
