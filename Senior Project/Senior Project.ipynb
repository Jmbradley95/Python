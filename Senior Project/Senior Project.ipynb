{
 "cells": [
  {
   "cell_type": "markdown",
   "metadata": {},
   "source": [
    "# Senior Project"
   ]
  },
  {
   "cell_type": "code",
   "execution_count": 35,
   "metadata": {},
   "outputs": [
    {
     "data": {
      "text/plain": [
       "['balanced', 'byclass', 'bymerge', 'digits', 'letters', 'mnist']"
      ]
     },
     "execution_count": 35,
     "metadata": {},
     "output_type": "execute_result"
    }
   ],
   "source": [
    "from emnist import list_datasets\n",
    "import numpy as np\n",
    "list_datasets()"
   ]
  },
  {
   "cell_type": "code",
   "execution_count": 36,
   "metadata": {},
   "outputs": [
    {
     "name": "stdout",
     "output_type": "stream",
     "text": [
      "Training Shape:  (697932, 28, 28)\n",
      "Testing Shape:  (116323, 28, 28)\n",
      "Training Label Shape:  (697932,)\n",
      "Testing Label Shape:  (116323,)\n",
      "Number of classes:  62\n"
     ]
    }
   ],
   "source": [
    "from emnist import extract_test_samples\n",
    "from emnist import extract_training_samples\n",
    "\n",
    "X_train, y_train = extract_training_samples('byclass')\n",
    "X_test, y_test = extract_test_samples('byclass')\n",
    "max = np.max(y_train)\n",
    "\n",
    "print('Training Shape: ', X_train.shape)\n",
    "print('Testing Shape: ', X_test.shape)\n",
    "print('Training Label Shape: ', y_train.shape)\n",
    "print('Testing Label Shape: ', y_test.shape)\n",
    "print('Number of classes: ', max + 1)"
   ]
  },
  {
   "cell_type": "markdown",
   "metadata": {},
   "source": [
    "Normalizing and Scaling the Pixels to Black and White "
   ]
  },
  {
   "cell_type": "code",
   "execution_count": 37,
   "metadata": {},
   "outputs": [
    {
     "name": "stdout",
     "output_type": "stream",
     "text": [
      "1.0\n",
      "0.0\n",
      "1.0\n",
      "0.0\n"
     ]
    }
   ],
   "source": [
    "X_train = X_train/255\n",
    "X_test= X_test/255\n",
    "print(np.max(X_train))\n",
    "print(np.min(X_train))\n",
    "print(np.max(X_test))\n",
    "print(np.min(X_test))\n"
   ]
  },
  {
   "cell_type": "markdown",
   "metadata": {},
   "source": [
    "#### Reshaping the data to create a 4D tensor"
   ]
  },
  {
   "cell_type": "code",
   "execution_count": 38,
   "metadata": {},
   "outputs": [
    {
     "name": "stdout",
     "output_type": "stream",
     "text": [
      "Data Set Info: \n",
      "\n",
      "Training Shape:  (697932, 28, 28, 1)\n",
      "Testing Shape:  (116323, 28, 28, 1)\n",
      "Training Label Shape:  (697932,)\n",
      "Testing Label Shape:  (116323,)\n",
      "Number of classes:  62\n"
     ]
    }
   ],
   "source": [
    "X_train = X_train.reshape(697932, 28, 28, 1)\n",
    "X_test = X_test.reshape(116323, 28, 28, 1)\n",
    "\n",
    "print('Data Set Info: \\n')\n",
    "print('Training Shape: ', X_train.shape)\n",
    "print('Testing Shape: ', X_test.shape)\n",
    "print('Training Label Shape: ', y_train.shape)\n",
    "print('Testing Label Shape: ', y_test.shape)\n",
    "\n",
    "max = np.max(y_train)\n",
    "print('Number of classes: ', max + 1)"
   ]
  },
  {
   "cell_type": "markdown",
   "metadata": {},
   "source": [
    "#### Categorizing the Labels"
   ]
  },
  {
   "cell_type": "code",
   "execution_count": 39,
   "metadata": {},
   "outputs": [
    {
     "name": "stdout",
     "output_type": "stream",
     "text": [
      "Shape of y_train and y_test before categorizing: \n",
      "(697932,)\n",
      "(116323,)\n"
     ]
    }
   ],
   "source": [
    "from keras.utils import np_utils\n",
    "NB_CLASSES = max + 1\n",
    "print('Shape of y_train and y_test before categorizing: ')\n",
    "print(y_train.shape)\n",
    "print(y_test.shape)"
   ]
  },
  {
   "cell_type": "code",
   "execution_count": 40,
   "metadata": {},
   "outputs": [
    {
     "name": "stdout",
     "output_type": "stream",
     "text": [
      "Shape of y_train and y_test after categorizing: \n",
      "(697932, 62)\n",
      "(116323, 62)\n"
     ]
    }
   ],
   "source": [
    "print('Shape of y_train and y_test after categorizing: ')\n",
    "y_train = np_utils.to_categorical(y_train, NB_CLASSES)\n",
    "y_test = np_utils.to_categorical(y_test, NB_CLASSES)\n",
    "\n",
    "print(y_train.shape)\n",
    "print(y_test.shape)"
   ]
  },
  {
   "cell_type": "code",
   "execution_count": 41,
   "metadata": {},
   "outputs": [],
   "source": [
    "classes = ['0','1','2','3','4','5','6','7','8','9',\n",
    "           'A','B','C','D','E','F','G','H','I','J','K','L','M','N','O','P','Q','R','S','T','U','V','W','X','Y','Z',\n",
    "           'a','b','c','d','e','f','g','h','i','j','k','l','m','n','o','p','q','r','s','t','u','v','w','x','y','z']"
   ]
  },
  {
   "cell_type": "code",
   "execution_count": 42,
   "metadata": {},
   "outputs": [
    {
     "name": "stdout",
     "output_type": "stream",
     "text": [
      "Label:  [0. 0. 0. 0. 0. 0. 0. 0. 0. 0. 0. 0. 0. 0. 0. 0. 0. 0. 0. 0. 0. 0. 0. 0.\n",
      " 0. 0. 0. 0. 0. 0. 0. 0. 0. 0. 0. 1. 0. 0. 0. 0. 0. 0. 0. 0. 0. 0. 0. 0.\n",
      " 0. 0. 0. 0. 0. 0. 0. 0. 0. 0. 0. 0. 0. 0.]\n"
     ]
    },
    {
     "data": {
      "image/png": "[encoded data removed]",
      "text/plain": [
       "<Figure size 432x288 with 1 Axes>"
      ]
     },
     "metadata": {
      "needs_background": "light"
     },
     "output_type": "display_data"
    }
   ],
   "source": [
    "from matplotlib import pyplot as plt\n",
    "plt.imshow(X_train[0])\n",
    "print('Label: ', y_train[0])"
   ]
  },
  {
   "cell_type": "markdown",
   "metadata": {},
   "source": [
    "####  Building the CNN Model"
   ]
  },
  {
   "cell_type": "code",
   "execution_count": 45,
   "metadata": {},
   "outputs": [],
   "source": [
    "from keras.models import Sequential\n",
    "from keras.layers.core import Dense, Activation, Dropout\n",
    "from keras.layers import Conv2D, MaxPooling2D, Flatten\n",
    "from keras.optimizers import RMSprop"
   ]
  },
  {
   "cell_type": "code",
   "execution_count": 47,
   "metadata": {},
   "outputs": [
    {
     "data": {
      "text/plain": [
       "(28, 28, 1)"
      ]
     },
     "execution_count": 47,
     "metadata": {},
     "output_type": "execute_result"
    }
   ],
   "source": [
    "NB_EPOCH = 10\n",
    "BATCH_SIZE = 30\n",
    "VERBOSE = 2\n",
    "NB_CLASSES = 62\n",
    "#OPTIMIZER = SGD()\n",
    "N_HIDDEN = 128\n",
    "VALIDATION_SPLIT = 0.2\n",
    "METRICS = ['accuracy']\n",
    "LOSS = 'categorical_crossentropy'\n",
    "\n",
    "input_shape = (X_train.shape[1],X_train.shape[2],X_train.shape[3])\n",
    "input_shape"
   ]
  },
  {
   "cell_type": "markdown",
   "metadata": {},
   "source": [
    "# Model 1"
   ]
  },
  {
   "cell_type": "code",
   "execution_count": 50,
   "metadata": {},
   "outputs": [
    {
     "name": "stdout",
     "output_type": "stream",
     "text": [
      "Model: \"sequential_2\"\n",
      "_________________________________________________________________\n",
      "Layer (type)                 Output Shape              Param #   \n",
      "=================================================================\n",
      "conv2d_5 (Conv2D)            (None, 26, 26, 32)        320       \n",
      "_________________________________________________________________\n",
      "max_pooling2d_5 (MaxPooling2 (None, 13, 13, 32)        0         \n",
      "_________________________________________________________________\n",
      "conv2d_6 (Conv2D)            (None, 11, 11, 64)        18496     \n",
      "_________________________________________________________________\n",
      "max_pooling2d_6 (MaxPooling2 (None, 5, 5, 64)          0         \n",
      "_________________________________________________________________\n",
      "conv2d_7 (Conv2D)            (None, 3, 3, 128)         73856     \n",
      "_________________________________________________________________\n",
      "max_pooling2d_7 (MaxPooling2 (None, 1, 1, 128)         0         \n",
      "_________________________________________________________________\n",
      "flatten_1 (Flatten)          (None, 128)               0         \n",
      "_________________________________________________________________\n",
      "dropout_1 (Dropout)          (None, 128)               0         \n",
      "_________________________________________________________________\n",
      "dense_1 (Dense)              (None, 62)                7998      \n",
      "=================================================================\n",
      "Total params: 100,670\n",
      "Trainable params: 100,670\n",
      "Non-trainable params: 0\n",
      "_________________________________________________________________\n"
     ]
    }
   ],
   "source": [
    "model = Sequential()\n",
    "\n",
    "model.add(Conv2D(32, kernel_size = (3, 3), \n",
    "                 activation = 'relu',\n",
    "                 input_shape = input_shape))\n",
    "\n",
    "model.add(MaxPooling2D(pool_size = (2, 2)))\n",
    "\n",
    "model.add(Conv2D(64, (3, 3), activation = 'relu'))\n",
    "\n",
    "model.add(MaxPooling2D(pool_size = (2, 2)))\n",
    "\n",
    "model.add(Conv2D(128,(3,3), activation = 'relu'))\n",
    "\n",
    "model.add(MaxPooling2D(pool_size = (2, 2)))\n",
    "\n",
    "model.add(Flatten())\n",
    "\n",
    "model.add(Dropout(0.5))\n",
    "\n",
    "model.add(Dense(62, activation = 'softmax'))\n",
    "\n",
    "model.summary()"
   ]
  },
  {
   "cell_type": "markdown",
   "metadata": {},
   "source": [
    "history = model.fit(X_train, y_train,\n",
    "                   BATCH_SIZE,\n",
    "                   NB_EPOCH,\n",
    "                   VERBOSE,\n",
    "                   validation_data = (X_test, y_test))"
   ]
  },
  {
   "cell_type": "code",
   "execution_count": 52,
   "metadata": {},
   "outputs": [],
   "source": [
    "model.compile(loss = 'categorical_crossentropy',\n",
    "              optimizer = 'adam',\n",
    "             metrics =['accuracy'])"
   ]
  },
  {
   "cell_type": "code",
   "execution_count": 53,
   "metadata": {},
   "outputs": [
    {
     "name": "stdout",
     "output_type": "stream",
     "text": [
      "Epoch 1/10\n",
      "23265/23265 - 212s - loss: 0.8191 - accuracy: 0.7452 - val_loss: 0.4995 - val_accuracy: 0.8285\n",
      "Epoch 2/10\n",
      "23265/23265 - 213s - loss: 0.6164 - accuracy: 0.7980 - val_loss: 0.4759 - val_accuracy: 0.8354\n",
      "Epoch 3/10\n",
      "23265/23265 - 213s - loss: 0.5810 - accuracy: 0.8078 - val_loss: 0.4684 - val_accuracy: 0.8369\n",
      "Epoch 4/10\n",
      "23265/23265 - 214s - loss: 0.5641 - accuracy: 0.8126 - val_loss: 0.4567 - val_accuracy: 0.8411\n",
      "Epoch 5/10\n",
      "23265/23265 - 208s - loss: 0.5541 - accuracy: 0.8150 - val_loss: 0.4461 - val_accuracy: 0.8444\n",
      "Epoch 6/10\n",
      "23265/23265 - 204s - loss: 0.5508 - accuracy: 0.8166 - val_loss: 0.4480 - val_accuracy: 0.8446\n",
      "Epoch 7/10\n",
      "23265/23265 - 204s - loss: 0.5475 - accuracy: 0.8174 - val_loss: 0.4542 - val_accuracy: 0.8429\n",
      "Epoch 8/10\n",
      "23265/23265 - 203s - loss: 0.5453 - accuracy: 0.8180 - val_loss: 0.4565 - val_accuracy: 0.8417\n",
      "Epoch 9/10\n",
      "23265/23265 - 205s - loss: 0.5421 - accuracy: 0.8190 - val_loss: 0.4551 - val_accuracy: 0.8420\n",
      "Epoch 10/10\n",
      "23265/23265 - 204s - loss: 0.5399 - accuracy: 0.8195 - val_loss: 0.4521 - val_accuracy: 0.8432\n"
     ]
    }
   ],
   "source": [
    "history = model.fit(X_train, y_train,\n",
    "                   BATCH_SIZE,\n",
    "                   NB_EPOCH,\n",
    "                   VERBOSE,\n",
    "                   validation_data = (X_test, y_test))"
   ]
  },
  {
   "cell_type": "code",
   "execution_count": 56,
   "metadata": {},
   "outputs": [
    {
     "name": "stdout",
     "output_type": "stream",
     "text": [
      "3636/3636 [==============================] - 10s 3ms/step - loss: 0.4521 - accuracy: 0.8432\n"
     ]
    },
    {
     "data": {
      "text/plain": [
       "0.8432468175888062"
      ]
     },
     "execution_count": 56,
     "metadata": {},
     "output_type": "execute_result"
    }
   ],
   "source": [
    "test_loss, test_acc = model.evaluate(X_test, y_test)\n",
    "test_acc"
   ]
  },
  {
   "cell_type": "code",
   "execution_count": 57,
   "metadata": {},
   "outputs": [
    {
     "name": "stdout",
     "output_type": "stream",
     "text": [
      "dict_keys(['loss', 'accuracy', 'val_loss', 'val_accuracy'])\n"
     ]
    }
   ],
   "source": [
    "print(history.history.keys())"
   ]
  },
  {
   "cell_type": "code",
   "execution_count": 58,
   "metadata": {
    "scrolled": true
   },
   "outputs": [
    {
     "data": {
      "image/png": "[encoded data removed]",
      "text/plain": [
       "<Figure size 432x288 with 1 Axes>"
      ]
     },
     "metadata": {
      "needs_background": "light"
     },
     "output_type": "display_data"
    }
   ],
   "source": [
    "plt.plot(history.history['loss'])\n",
    "plt.plot(history.history['val_loss'])\n",
    "plt.title('model loss')\n",
    "plt.ylabel('loss')\n",
    "plt.xlabel('epoch')\n",
    "plt.legend(['train', 'test'], loc='upper left')\n",
    "plt.show()"
   ]
  },
  {
   "cell_type": "markdown",
   "metadata": {},
   "source": [
    "# Model 2"
   ]
  },
  {
   "cell_type": "code",
   "execution_count": 126,
   "metadata": {},
   "outputs": [
    {
     "name": "stdout",
     "output_type": "stream",
     "text": [
      "Model: \"sequential_30\"\n",
      "_________________________________________________________________\n",
      "Layer (type)                 Output Shape              Param #   \n",
      "=================================================================\n",
      "conv2d_95 (Conv2D)           (None, 26, 26, 64)        640       \n",
      "_________________________________________________________________\n",
      "max_pooling2d_83 (MaxPooling (None, 13, 13, 64)        0         \n",
      "_________________________________________________________________\n",
      "conv2d_96 (Conv2D)           (None, 11, 11, 128)       73856     \n",
      "_________________________________________________________________\n",
      "max_pooling2d_84 (MaxPooling (None, 5, 5, 128)         0         \n",
      "_________________________________________________________________\n",
      "conv2d_97 (Conv2D)           (None, 3, 3, 256)         295168    \n",
      "_________________________________________________________________\n",
      "max_pooling2d_85 (MaxPooling (None, 1, 1, 256)         0         \n",
      "_________________________________________________________________\n",
      "flatten_18 (Flatten)         (None, 256)               0         \n",
      "_________________________________________________________________\n",
      "dropout_18 (Dropout)         (None, 256)               0         \n",
      "_________________________________________________________________\n",
      "dense_18 (Dense)             (None, 62)                15934     \n",
      "=================================================================\n",
      "Total params: 385,598\n",
      "Trainable params: 385,598\n",
      "Non-trainable params: 0\n",
      "_________________________________________________________________\n"
     ]
    }
   ],
   "source": [
    "model2 = Sequential()\n",
    "\n",
    "model2.add(Conv2D(64, kernel_size = (3, 3), \n",
    "                 activation = 'relu',\n",
    "                 input_shape = input_shape))\n",
    "\n",
    "model2.add(MaxPooling2D(pool_size = (2, 2)))\n",
    "\n",
    "model2.add(Conv2D(128, (3, 3), activation = 'relu'))\n",
    "\n",
    "model2.add(MaxPooling2D(pool_size = (2, 2)))\n",
    "\n",
    "model2.add(Conv2D(256,(3,3), activation = 'relu'))\n",
    "\n",
    "model2.add(MaxPooling2D(pool_size = (2, 2)))\n",
    "\n",
    "model2.add(Flatten())\n",
    "\n",
    "model2.add(Dropout(0.5))\n",
    "\n",
    "model2.add(Dense(62, activation = 'softmax'))\n",
    "\n",
    "model2.summary()"
   ]
  },
  {
   "cell_type": "code",
   "execution_count": 127,
   "metadata": {},
   "outputs": [],
   "source": [
    "model2.compile(loss = 'categorical_crossentropy',\n",
    "              optimizer = 'adam',\n",
    "             metrics =['accuracy'])"
   ]
  },
  {
   "cell_type": "code",
   "execution_count": 143,
   "metadata": {},
   "outputs": [
    {
     "name": "stdout",
     "output_type": "stream",
     "text": [
      "Epoch 1/10\n",
      "23265/23265 - 448s - loss: 0.6943 - accuracy: 0.7772 - val_loss: 0.4662 - val_accuracy: 0.8366\n",
      "Epoch 2/10\n",
      "23265/23265 - 446s - loss: 0.5333 - accuracy: 0.8198 - val_loss: 0.4387 - val_accuracy: 0.8445\n",
      "Epoch 3/10\n",
      "23265/23265 - 455s - loss: 0.5045 - accuracy: 0.8279 - val_loss: 0.4352 - val_accuracy: 0.8460\n",
      "Epoch 4/10\n",
      "23265/23265 - 460s - loss: 0.4923 - accuracy: 0.8313 - val_loss: 0.4306 - val_accuracy: 0.8478\n",
      "Epoch 5/10\n",
      "23265/23265 - 465s - loss: 0.4845 - accuracy: 0.8336 - val_loss: 0.4315 - val_accuracy: 0.8481\n",
      "Epoch 6/10\n",
      "23265/23265 - 466s - loss: 0.4800 - accuracy: 0.8347 - val_loss: 0.4369 - val_accuracy: 0.8459\n",
      "Epoch 7/10\n",
      "23265/23265 - 469s - loss: 0.4756 - accuracy: 0.8355 - val_loss: 0.4376 - val_accuracy: 0.8474\n",
      "Epoch 8/10\n",
      "23265/23265 - 475s - loss: 0.4745 - accuracy: 0.8359 - val_loss: 0.4312 - val_accuracy: 0.8497\n",
      "Epoch 9/10\n",
      "23265/23265 - 462s - loss: 0.4731 - accuracy: 0.8367 - val_loss: 0.4298 - val_accuracy: 0.8492\n",
      "Epoch 10/10\n",
      "23265/23265 - 461s - loss: 0.4730 - accuracy: 0.8370 - val_loss: 0.4373 - val_accuracy: 0.8475\n"
     ]
    }
   ],
   "source": [
    "history2 = model2.fit(X_train, y_train,\n",
    "                   BATCH_SIZE,\n",
    "                   NB_EPOCH,\n",
    "                   VERBOSE,\n",
    "                   validation_data = (X_test, y_test))"
   ]
  },
  {
   "cell_type": "code",
   "execution_count": 144,
   "metadata": {},
   "outputs": [
    {
     "name": "stdout",
     "output_type": "stream",
     "text": [
      "3636/3636 [==============================] - 21s 6ms/step - loss: 0.4373 - accuracy: 0.8475\n"
     ]
    },
    {
     "data": {
      "text/plain": [
       "0.8474850058555603"
      ]
     },
     "execution_count": 144,
     "metadata": {},
     "output_type": "execute_result"
    }
   ],
   "source": [
    "test_loss, test_acc = model2.evaluate(X_test, y_test)\n",
    "test_acc"
   ]
  },
  {
   "cell_type": "code",
   "execution_count": 145,
   "metadata": {},
   "outputs": [
    {
     "data": {
      "image/png": "[encoded data removed]",
      "text/plain": [
       "<Figure size 432x288 with 1 Axes>"
      ]
     },
     "metadata": {
      "needs_background": "light"
     },
     "output_type": "display_data"
    }
   ],
   "source": [
    "plt.plot(history2.history['loss'])\n",
    "plt.plot(history2.history['val_loss'])\n",
    "plt.title('model loss')\n",
    "plt.ylabel('loss')\n",
    "plt.xlabel('epoch')\n",
    "plt.legend(['train', 'test'], loc='upper left')\n",
    "plt.show()"
   ]
  },
  {
   "cell_type": "markdown",
   "metadata": {},
   "source": [
    "# Model 3"
   ]
  },
  {
   "cell_type": "code",
   "execution_count": 151,
   "metadata": {},
   "outputs": [
    {
     "name": "stdout",
     "output_type": "stream",
     "text": [
      "Model: \"sequential_39\"\n",
      "_________________________________________________________________\n",
      "Layer (type)                 Output Shape              Param #   \n",
      "=================================================================\n",
      "conv2d_118 (Conv2D)          (None, 26, 26, 64)        640       \n",
      "_________________________________________________________________\n",
      "max_pooling2d_104 (MaxPoolin (None, 13, 13, 64)        0         \n",
      "_________________________________________________________________\n",
      "conv2d_119 (Conv2D)          (None, 11, 11, 128)       73856     \n",
      "_________________________________________________________________\n",
      "max_pooling2d_105 (MaxPoolin (None, 5, 5, 128)         0         \n",
      "_________________________________________________________________\n",
      "conv2d_120 (Conv2D)          (None, 3, 3, 256)         295168    \n",
      "_________________________________________________________________\n",
      "max_pooling2d_106 (MaxPoolin (None, 1, 1, 256)         0         \n",
      "_________________________________________________________________\n",
      "flatten_25 (Flatten)         (None, 256)               0         \n",
      "_________________________________________________________________\n",
      "dropout_27 (Dropout)         (None, 256)               0         \n",
      "_________________________________________________________________\n",
      "dense_27 (Dense)             (None, 62)                15934     \n",
      "=================================================================\n",
      "Total params: 385,598\n",
      "Trainable params: 385,598\n",
      "Non-trainable params: 0\n",
      "_________________________________________________________________\n"
     ]
    }
   ],
   "source": [
    "model3 = Sequential()\n",
    "\n",
    "model3.add(Conv2D(64, kernel_size = (3, 3), \n",
    "                 activation = 'relu',\n",
    "                 input_shape = input_shape))\n",
    "\n",
    "model3.add(MaxPooling2D(pool_size = (2, 2)))\n",
    "\n",
    "model3.add(Conv2D(128, (3, 3), activation = 'relu'))\n",
    "\n",
    "model3.add(MaxPooling2D(pool_size = (2, 2)))\n",
    "\n",
    "model3.add(Conv2D(256,(3,3), activation = 'relu'))\n",
    "\n",
    "model3.add(MaxPooling2D(pool_size = (2, 2)))\n",
    "\n",
    "model3.add(Flatten())\n",
    "\n",
    "model3.add(Dropout(0.5))\n",
    "\n",
    "model3.add(Dense(62, activation = 'softmax'))\n",
    "\n",
    "model3.summary()"
   ]
  },
  {
   "cell_type": "code",
   "execution_count": 152,
   "metadata": {},
   "outputs": [],
   "source": [
    "NEW_BATCH_SIZE = 50"
   ]
  },
  {
   "cell_type": "code",
   "execution_count": 153,
   "metadata": {},
   "outputs": [],
   "source": [
    "model3.compile(loss = 'categorical_crossentropy',\n",
    "              optimizer = 'adam',\n",
    "             metrics =['accuracy'])"
   ]
  },
  {
   "cell_type": "code",
   "execution_count": 154,
   "metadata": {},
   "outputs": [
    {
     "name": "stdout",
     "output_type": "stream",
     "text": [
      "Epoch 1/10\n",
      "13959/13959 - 410s - loss: 0.7000 - accuracy: 0.7759 - val_loss: 0.4601 - val_accuracy: 0.8388\n",
      "Epoch 2/10\n",
      "13959/13959 - 411s - loss: 0.5282 - accuracy: 0.8210 - val_loss: 0.4337 - val_accuracy: 0.8462\n",
      "Epoch 3/10\n",
      "13959/13959 - 410s - loss: 0.4948 - accuracy: 0.8306 - val_loss: 0.4245 - val_accuracy: 0.8489\n",
      "Epoch 4/10\n",
      "13959/13959 - 411s - loss: 0.4785 - accuracy: 0.8346 - val_loss: 0.4211 - val_accuracy: 0.8499\n",
      "Epoch 5/10\n",
      "13959/13959 - 411s - loss: 0.4682 - accuracy: 0.8371 - val_loss: 0.4131 - val_accuracy: 0.8527\n",
      "Epoch 6/10\n",
      "13959/13959 - 410s - loss: 0.4613 - accuracy: 0.8390 - val_loss: 0.4135 - val_accuracy: 0.8520\n",
      "Epoch 7/10\n",
      "13959/13959 - 409s - loss: 0.4552 - accuracy: 0.8408 - val_loss: 0.4151 - val_accuracy: 0.8517\n",
      "Epoch 8/10\n",
      "13959/13959 - 411s - loss: 0.4504 - accuracy: 0.8421 - val_loss: 0.4146 - val_accuracy: 0.8525\n",
      "Epoch 9/10\n",
      "13959/13959 - 410s - loss: 0.4469 - accuracy: 0.8427 - val_loss: 0.4143 - val_accuracy: 0.8533\n",
      "Epoch 10/10\n",
      "13959/13959 - 410s - loss: 0.4443 - accuracy: 0.8436 - val_loss: 0.4112 - val_accuracy: 0.8531\n"
     ]
    }
   ],
   "source": [
    "history3 = model3.fit(X_train, y_train,\n",
    "                   NEW_BATCH_SIZE,\n",
    "                   NB_EPOCH,\n",
    "                   VERBOSE,\n",
    "                   validation_data = (X_test, y_test))"
   ]
  },
  {
   "cell_type": "code",
   "execution_count": 155,
   "metadata": {},
   "outputs": [
    {
     "name": "stdout",
     "output_type": "stream",
     "text": [
      "3636/3636 [==============================] - 22s 6ms/step - loss: 0.4112 - accuracy: 0.8531\n"
     ]
    },
    {
     "data": {
      "text/plain": [
       "0.8530728816986084"
      ]
     },
     "execution_count": 155,
     "metadata": {},
     "output_type": "execute_result"
    }
   ],
   "source": [
    "test_loss, test_acc = model3.evaluate(X_test, y_test)\n",
    "test_acc"
   ]
  },
  {
   "cell_type": "code",
   "execution_count": 156,
   "metadata": {},
   "outputs": [
    {
     "data": {
      "image/png": "[encoded data removed]",
      "text/plain": [
       "<Figure size 432x288 with 1 Axes>"
      ]
     },
     "metadata": {
      "needs_background": "light"
     },
     "output_type": "display_data"
    }
   ],
   "source": [
    "plt.plot(history3.history['loss'])\n",
    "plt.plot(history3.history['val_loss'])\n",
    "plt.title('model loss')\n",
    "plt.ylabel('loss')\n",
    "plt.xlabel('epoch')\n",
    "plt.legend(['train', 'test'], loc='upper left')\n",
    "plt.show()"
   ]
  },
  {
   "cell_type": "markdown",
   "metadata": {},
   "source": [
    "# Model 4"
   ]
  },
  {
   "cell_type": "code",
   "execution_count": 157,
   "metadata": {},
   "outputs": [
    {
     "name": "stdout",
     "output_type": "stream",
     "text": [
      "Model: \"sequential_40\"\n",
      "_________________________________________________________________\n",
      "Layer (type)                 Output Shape              Param #   \n",
      "=================================================================\n",
      "conv2d_121 (Conv2D)          (None, 26, 26, 64)        640       \n",
      "_________________________________________________________________\n",
      "max_pooling2d_107 (MaxPoolin (None, 13, 13, 64)        0         \n",
      "_________________________________________________________________\n",
      "dropout_28 (Dropout)         (None, 13, 13, 64)        0         \n",
      "_________________________________________________________________\n",
      "conv2d_122 (Conv2D)          (None, 11, 11, 128)       73856     \n",
      "_________________________________________________________________\n",
      "max_pooling2d_108 (MaxPoolin (None, 5, 5, 128)         0         \n",
      "_________________________________________________________________\n",
      "conv2d_123 (Conv2D)          (None, 3, 3, 256)         295168    \n",
      "_________________________________________________________________\n",
      "max_pooling2d_109 (MaxPoolin (None, 1, 1, 256)         0         \n",
      "_________________________________________________________________\n",
      "flatten_26 (Flatten)         (None, 256)               0         \n",
      "_________________________________________________________________\n",
      "dropout_29 (Dropout)         (None, 256)               0         \n",
      "_________________________________________________________________\n",
      "dense_28 (Dense)             (None, 62)                15934     \n",
      "=================================================================\n",
      "Total params: 385,598\n",
      "Trainable params: 385,598\n",
      "Non-trainable params: 0\n",
      "_________________________________________________________________\n"
     ]
    }
   ],
   "source": [
    "model4 = Sequential()\n",
    "\n",
    "model4.add(Conv2D(64, kernel_size = (3, 3), \n",
    "                 activation = 'relu',\n",
    "                 input_shape = input_shape))\n",
    "\n",
    "model4.add(MaxPooling2D(pool_size = (2, 2)))\n",
    "\n",
    "model4.add(Dropout(0.25))\n",
    "\n",
    "model4.add(Conv2D(128, (3, 3), activation = 'relu'))\n",
    "\n",
    "model4.add(MaxPooling2D(pool_size = (2, 2)))\n",
    "\n",
    "model4.add(Conv2D(256,(3,3), activation = 'relu'))\n",
    "\n",
    "model4.add(MaxPooling2D(pool_size = (2, 2)))\n",
    "\n",
    "model4.add(Flatten())\n",
    "\n",
    "model4.add(Dropout(0.25))\n",
    "\n",
    "model4.add(Dense(62, activation = 'softmax'))\n",
    "\n",
    "model4.summary()"
   ]
  },
  {
   "cell_type": "code",
   "execution_count": 159,
   "metadata": {},
   "outputs": [],
   "source": [
    "model4.compile(loss = 'categorical_crossentropy',\n",
    "              optimizer = 'adam',\n",
    "             metrics =['accuracy'])"
   ]
  },
  {
   "cell_type": "code",
   "execution_count": 160,
   "metadata": {},
   "outputs": [
    {
     "name": "stdout",
     "output_type": "stream",
     "text": [
      "Epoch 1/10\n",
      "13959/13959 - 475s - loss: 0.6387 - accuracy: 0.7911 - val_loss: 0.4779 - val_accuracy: 0.8322\n",
      "Epoch 2/10\n",
      "13959/13959 - 447s - loss: 0.4928 - accuracy: 0.8290 - val_loss: 0.4312 - val_accuracy: 0.8456\n",
      "Epoch 3/10\n",
      "13959/13959 - 445s - loss: 0.4661 - accuracy: 0.8364 - val_loss: 0.4213 - val_accuracy: 0.8489\n",
      "Epoch 4/10\n",
      "13959/13959 - 442s - loss: 0.4530 - accuracy: 0.8395 - val_loss: 0.4153 - val_accuracy: 0.8508\n",
      "Epoch 5/10\n",
      "13959/13959 - 442s - loss: 0.4437 - accuracy: 0.8421 - val_loss: 0.4141 - val_accuracy: 0.8513\n",
      "Epoch 6/10\n",
      "13959/13959 - 438s - loss: 0.4369 - accuracy: 0.8440 - val_loss: 0.4146 - val_accuracy: 0.8502\n",
      "Epoch 7/10\n",
      "13959/13959 - 442s - loss: 0.4324 - accuracy: 0.8455 - val_loss: 0.4103 - val_accuracy: 0.8530\n",
      "Epoch 8/10\n",
      "13959/13959 - 438s - loss: 0.4287 - accuracy: 0.8465 - val_loss: 0.4127 - val_accuracy: 0.8522\n",
      "Epoch 9/10\n",
      "13959/13959 - 439s - loss: 0.4260 - accuracy: 0.8471 - val_loss: 0.4084 - val_accuracy: 0.8533\n",
      "Epoch 10/10\n",
      "13959/13959 - 433s - loss: 0.4230 - accuracy: 0.8480 - val_loss: 0.4116 - val_accuracy: 0.8522\n"
     ]
    }
   ],
   "source": [
    "history4 = model4.fit(X_train, y_train,\n",
    "                   NEW_BATCH_SIZE,\n",
    "                   NB_EPOCH,\n",
    "                   VERBOSE,\n",
    "                   validation_data = (X_test, y_test))"
   ]
  },
  {
   "cell_type": "code",
   "execution_count": 161,
   "metadata": {},
   "outputs": [
    {
     "name": "stdout",
     "output_type": "stream",
     "text": [
      "3636/3636 [==============================] - 20s 6ms/step - loss: 0.4116 - accuracy: 0.8522\n"
     ]
    },
    {
     "data": {
      "text/plain": [
       "0.8522390127182007"
      ]
     },
     "execution_count": 161,
     "metadata": {},
     "output_type": "execute_result"
    }
   ],
   "source": [
    "test_loss, test_acc = model4.evaluate(X_test, y_test)\n",
    "test_acc"
   ]
  },
  {
   "cell_type": "code",
   "execution_count": 162,
   "metadata": {},
   "outputs": [
    {
     "data": {
      "image/png": "[encoded data removed]",
      "text/plain": [
       "<Figure size 432x288 with 1 Axes>"
      ]
     },
     "metadata": {
      "needs_background": "light"
     },
     "output_type": "display_data"
    }
   ],
   "source": [
    "plt.plot(history4.history['loss'])\n",
    "plt.plot(history4.history['val_loss'])\n",
    "plt.title('model loss')\n",
    "plt.ylabel('loss')\n",
    "plt.xlabel('epoch')\n",
    "plt.legend(['train', 'test'], loc='upper left')\n",
    "plt.show()"
   ]
  },
  {
   "cell_type": "markdown",
   "metadata": {},
   "source": [
    "# Model 5"
   ]
  },
  {
   "cell_type": "code",
   "execution_count": 163,
   "metadata": {},
   "outputs": [
    {
     "name": "stdout",
     "output_type": "stream",
     "text": [
      "Model: \"sequential_41\"\n",
      "_________________________________________________________________\n",
      "Layer (type)                 Output Shape              Param #   \n",
      "=================================================================\n",
      "conv2d_124 (Conv2D)          (None, 26, 26, 32)        320       \n",
      "_________________________________________________________________\n",
      "max_pooling2d_110 (MaxPoolin (None, 13, 13, 32)        0         \n",
      "_________________________________________________________________\n",
      "dropout_30 (Dropout)         (None, 13, 13, 32)        0         \n",
      "_________________________________________________________________\n",
      "conv2d_125 (Conv2D)          (None, 11, 11, 64)        18496     \n",
      "_________________________________________________________________\n",
      "max_pooling2d_111 (MaxPoolin (None, 5, 5, 64)          0         \n",
      "_________________________________________________________________\n",
      "conv2d_126 (Conv2D)          (None, 3, 3, 128)         73856     \n",
      "_________________________________________________________________\n",
      "max_pooling2d_112 (MaxPoolin (None, 1, 1, 128)         0         \n",
      "_________________________________________________________________\n",
      "flatten_27 (Flatten)         (None, 128)               0         \n",
      "_________________________________________________________________\n",
      "dropout_31 (Dropout)         (None, 128)               0         \n",
      "_________________________________________________________________\n",
      "dense_29 (Dense)             (None, 62)                7998      \n",
      "=================================================================\n",
      "Total params: 100,670\n",
      "Trainable params: 100,670\n",
      "Non-trainable params: 0\n",
      "_________________________________________________________________\n"
     ]
    }
   ],
   "source": [
    "model5 = Sequential()\n",
    "\n",
    "model5.add(Conv2D(32, kernel_size = (3, 3), \n",
    "                 activation = 'relu',\n",
    "                 input_shape = input_shape))\n",
    "\n",
    "model5.add(MaxPooling2D(pool_size = (2, 2)))\n",
    "\n",
    "model5.add(Dropout(0.25))\n",
    "\n",
    "model5.add(Conv2D(64, (3, 3), activation = 'relu'))\n",
    "\n",
    "model5.add(MaxPooling2D(pool_size = (2, 2)))\n",
    "\n",
    "model5.add(Conv2D(128,(3,3), activation = 'relu'))\n",
    "\n",
    "model5.add(MaxPooling2D(pool_size = (2, 2)))\n",
    "\n",
    "model5.add(Flatten())\n",
    "\n",
    "model5.add(Dropout(0.25))\n",
    "\n",
    "model5.add(Dense(62, activation = 'softmax'))\n",
    "\n",
    "model5.summary()"
   ]
  },
  {
   "cell_type": "code",
   "execution_count": 164,
   "metadata": {},
   "outputs": [],
   "source": [
    "model5.compile(loss = 'categorical_crossentropy',\n",
    "              optimizer = 'adam',\n",
    "             metrics =['accuracy'])"
   ]
  },
  {
   "cell_type": "code",
   "execution_count": 165,
   "metadata": {},
   "outputs": [
    {
     "name": "stdout",
     "output_type": "stream",
     "text": [
      "Epoch 1/10\n",
      "13959/13959 - 226s - loss: 0.7361 - accuracy: 0.7654 - val_loss: 0.4878 - val_accuracy: 0.8308\n",
      "Epoch 2/10\n",
      "13959/13959 - 228s - loss: 0.5484 - accuracy: 0.8143 - val_loss: 0.4575 - val_accuracy: 0.8408\n",
      "Epoch 3/10\n",
      "13959/13959 - 238s - loss: 0.5203 - accuracy: 0.8221 - val_loss: 0.4537 - val_accuracy: 0.8383\n",
      "Epoch 4/10\n",
      "13959/13959 - 237s - loss: 0.5058 - accuracy: 0.8256 - val_loss: 0.4432 - val_accuracy: 0.8435\n",
      "Epoch 5/10\n",
      "13959/13959 - 236s - loss: 0.4964 - accuracy: 0.8286 - val_loss: 0.4429 - val_accuracy: 0.8443\n",
      "Epoch 6/10\n",
      "13959/13959 - 237s - loss: 0.4902 - accuracy: 0.8302 - val_loss: 0.4363 - val_accuracy: 0.8459\n",
      "Epoch 7/10\n",
      "13959/13959 - 237s - loss: 0.4859 - accuracy: 0.8315 - val_loss: 0.4378 - val_accuracy: 0.8441\n",
      "Epoch 8/10\n",
      "13959/13959 - 238s - loss: 0.4825 - accuracy: 0.8324 - val_loss: 0.4299 - val_accuracy: 0.8466\n",
      "Epoch 9/10\n",
      "13959/13959 - 238s - loss: 0.4799 - accuracy: 0.8332 - val_loss: 0.4297 - val_accuracy: 0.8472\n",
      "Epoch 10/10\n",
      "13959/13959 - 241s - loss: 0.4780 - accuracy: 0.8335 - val_loss: 0.4272 - val_accuracy: 0.8484\n"
     ]
    }
   ],
   "source": [
    "history5 = model5.fit(X_train, y_train,\n",
    "                   NEW_BATCH_SIZE,\n",
    "                   NB_EPOCH,\n",
    "                   VERBOSE,\n",
    "                   validation_data = (X_test, y_test))"
   ]
  },
  {
   "cell_type": "code",
   "execution_count": 166,
   "metadata": {},
   "outputs": [
    {
     "name": "stdout",
     "output_type": "stream",
     "text": [
      "3636/3636 [==============================] - 11s 3ms/step - loss: 0.4272 - accuracy: 0.8484\n"
     ]
    },
    {
     "data": {
      "text/plain": [
       "0.8484306335449219"
      ]
     },
     "execution_count": 166,
     "metadata": {},
     "output_type": "execute_result"
    }
   ],
   "source": [
    "test_loss, test_acc = model5.evaluate(X_test, y_test)\n",
    "test_acc"
   ]
  },
  {
   "cell_type": "code",
   "execution_count": 167,
   "metadata": {},
   "outputs": [
    {
     "data": {
      "image/png": "[encoded data removed]",
      "text/plain": [
       "<Figure size 432x288 with 1 Axes>"
      ]
     },
     "metadata": {
      "needs_background": "light"
     },
     "output_type": "display_data"
    }
   ],
   "source": [
    "plt.plot(history5.history['loss'])\n",
    "plt.plot(history5.history['val_loss'])\n",
    "plt.title('model loss')\n",
    "plt.ylabel('loss')\n",
    "plt.xlabel('epoch')\n",
    "plt.legend(['train', 'test'], loc='upper left')\n",
    "plt.show()"
   ]
  },
  {
   "cell_type": "markdown",
   "metadata": {},
   "source": [
    "# FINAL MODEL"
   ]
  },
  {
   "cell_type": "code",
   "execution_count": 168,
   "metadata": {},
   "outputs": [
    {
     "name": "stdout",
     "output_type": "stream",
     "text": [
      "Model: \"sequential_42\"\n",
      "_________________________________________________________________\n",
      "Layer (type)                 Output Shape              Param #   \n",
      "=================================================================\n",
      "conv2d_127 (Conv2D)          (None, 26, 26, 64)        640       \n",
      "_________________________________________________________________\n",
      "max_pooling2d_113 (MaxPoolin (None, 13, 13, 64)        0         \n",
      "_________________________________________________________________\n",
      "dropout_32 (Dropout)         (None, 13, 13, 64)        0         \n",
      "_________________________________________________________________\n",
      "conv2d_128 (Conv2D)          (None, 11, 11, 128)       73856     \n",
      "_________________________________________________________________\n",
      "max_pooling2d_114 (MaxPoolin (None, 5, 5, 128)         0         \n",
      "_________________________________________________________________\n",
      "conv2d_129 (Conv2D)          (None, 3, 3, 256)         295168    \n",
      "_________________________________________________________________\n",
      "max_pooling2d_115 (MaxPoolin (None, 1, 1, 256)         0         \n",
      "_________________________________________________________________\n",
      "flatten_28 (Flatten)         (None, 256)               0         \n",
      "_________________________________________________________________\n",
      "dropout_33 (Dropout)         (None, 256)               0         \n",
      "_________________________________________________________________\n",
      "dense_30 (Dense)             (None, 62)                15934     \n",
      "=================================================================\n",
      "Total params: 385,598\n",
      "Trainable params: 385,598\n",
      "Non-trainable params: 0\n",
      "_________________________________________________________________\n"
     ]
    }
   ],
   "source": [
    "model6 = Sequential()\n",
    "\n",
    "model6.add(Conv2D(64, kernel_size = (3, 3), \n",
    "                 activation = 'relu',\n",
    "                 input_shape = input_shape))\n",
    "\n",
    "model6.add(MaxPooling2D(pool_size = (2, 2)))\n",
    "\n",
    "model6.add(Dropout(0.25))\n",
    "\n",
    "model6.add(Conv2D(128, (3, 3), activation = 'relu'))\n",
    "\n",
    "model6.add(MaxPooling2D(pool_size = (2, 2)))\n",
    "\n",
    "model6.add(Conv2D(256,(3,3), activation = 'relu'))\n",
    "\n",
    "model6.add(MaxPooling2D(pool_size = (2, 2)))\n",
    "\n",
    "model6.add(Flatten())\n",
    "\n",
    "model6.add(Dropout(0.25))\n",
    "\n",
    "model6.add(Dense(62, activation = 'softmax'))\n",
    "\n",
    "model6.summary()"
   ]
  },
  {
   "cell_type": "code",
   "execution_count": 169,
   "metadata": {},
   "outputs": [],
   "source": [
    "model6.compile(loss = 'categorical_crossentropy',\n",
    "              optimizer = 'adam',\n",
    "             metrics =['accuracy'])"
   ]
  },
  {
   "cell_type": "code",
   "execution_count": 170,
   "metadata": {},
   "outputs": [],
   "source": [
    "NEW_NB_EPOCH = 20"
   ]
  },
  {
   "cell_type": "code",
   "execution_count": 172,
   "metadata": {},
   "outputs": [
    {
     "name": "stdout",
     "output_type": "stream",
     "text": [
      "Epoch 1/20\n",
      "13959/13959 - 454s - loss: 0.6295 - accuracy: 0.7923 - val_loss: 0.4561 - val_accuracy: 0.8404\n",
      "Epoch 2/20\n",
      "13959/13959 - 461s - loss: 0.4905 - accuracy: 0.8301 - val_loss: 0.4317 - val_accuracy: 0.8463\n",
      "Epoch 3/20\n",
      "13959/13959 - 459s - loss: 0.4643 - accuracy: 0.8366 - val_loss: 0.4227 - val_accuracy: 0.8482\n",
      "Epoch 4/20\n",
      "13959/13959 - 452s - loss: 0.4503 - accuracy: 0.8407 - val_loss: 0.4232 - val_accuracy: 0.8485\n",
      "Epoch 5/20\n",
      "13959/13959 - 454s - loss: 0.4429 - accuracy: 0.8426 - val_loss: 0.4178 - val_accuracy: 0.8498\n",
      "Epoch 6/20\n",
      "13959/13959 - 456s - loss: 0.4354 - accuracy: 0.8445 - val_loss: 0.4126 - val_accuracy: 0.8514\n",
      "Epoch 7/20\n",
      "13959/13959 - 461s - loss: 0.4306 - accuracy: 0.8456 - val_loss: 0.4118 - val_accuracy: 0.8524\n",
      "Epoch 8/20\n",
      "13959/13959 - 460s - loss: 0.4268 - accuracy: 0.8465 - val_loss: 0.4131 - val_accuracy: 0.8527\n",
      "Epoch 9/20\n",
      "13959/13959 - 465s - loss: 0.4235 - accuracy: 0.8476 - val_loss: 0.4090 - val_accuracy: 0.8535\n",
      "Epoch 10/20\n",
      "13959/13959 - 471s - loss: 0.4217 - accuracy: 0.8478 - val_loss: 0.4167 - val_accuracy: 0.8519\n",
      "Epoch 11/20\n",
      "13959/13959 - 472s - loss: 0.4186 - accuracy: 0.8489 - val_loss: 0.4081 - val_accuracy: 0.8539\n",
      "Epoch 12/20\n",
      "13959/13959 - 469s - loss: 0.4171 - accuracy: 0.8491 - val_loss: 0.4104 - val_accuracy: 0.8519\n",
      "Epoch 13/20\n",
      "13959/13959 - 474s - loss: 0.4150 - accuracy: 0.8501 - val_loss: 0.4104 - val_accuracy: 0.8532\n",
      "Epoch 14/20\n",
      "13959/13959 - 465s - loss: 0.4130 - accuracy: 0.8500 - val_loss: 0.4122 - val_accuracy: 0.8544\n",
      "Epoch 15/20\n",
      "13959/13959 - 481s - loss: 0.4130 - accuracy: 0.8508 - val_loss: 0.4100 - val_accuracy: 0.8542\n",
      "Epoch 16/20\n",
      "13959/13959 - 459s - loss: 0.4116 - accuracy: 0.8504 - val_loss: 0.4135 - val_accuracy: 0.8517\n",
      "Epoch 17/20\n",
      "13959/13959 - 459s - loss: 0.4104 - accuracy: 0.8509 - val_loss: 0.4106 - val_accuracy: 0.8534\n",
      "Epoch 18/20\n",
      "13959/13959 - 469s - loss: 0.4110 - accuracy: 0.8511 - val_loss: 0.4147 - val_accuracy: 0.8515\n",
      "Epoch 19/20\n",
      "13959/13959 - 460s - loss: 0.4090 - accuracy: 0.8512 - val_loss: 0.4179 - val_accuracy: 0.8506\n",
      "Epoch 20/20\n",
      "13959/13959 - 462s - loss: 0.4094 - accuracy: 0.8510 - val_loss: 0.4108 - val_accuracy: 0.8536\n"
     ]
    }
   ],
   "source": [
    "history6 = model6.fit(X_train, y_train,\n",
    "                   NEW_BATCH_SIZE,\n",
    "                   NEW_NB_EPOCH,\n",
    "                   VERBOSE,\n",
    "                   validation_data = (X_test, y_test))"
   ]
  },
  {
   "cell_type": "code",
   "execution_count": 173,
   "metadata": {},
   "outputs": [
    {
     "data": {
      "image/png": "[encoded data removed]",
      "text/plain": [
       "<Figure size 432x288 with 1 Axes>"
      ]
     },
     "metadata": {
      "needs_background": "light"
     },
     "output_type": "display_data"
    }
   ],
   "source": [
    "plt.plot(history6.history['loss'])\n",
    "plt.plot(history6.history['val_loss'])\n",
    "plt.title('model loss')\n",
    "plt.ylabel('loss')\n",
    "plt.xlabel('epoch')\n",
    "plt.legend(['train', 'test'], loc='upper left')\n",
    "plt.show()"
   ]
  },
  {
   "cell_type": "markdown",
   "metadata": {},
   "source": [
    "# SAMPLE IMAGES"
   ]
  },
  {
   "cell_type": "code",
   "execution_count": 240,
   "metadata": {},
   "outputs": [
    {
     "name": "stdout",
     "output_type": "stream",
     "text": [
      "[29]\n"
     ]
    },
    {
     "data": {
      "text/plain": [
       "<matplotlib.image.AxesImage at 0x2218bf0afd0>"
      ]
     },
     "execution_count": 240,
     "metadata": {},
     "output_type": "execute_result"
    },
    {
     "data": {
      "image/png": "[encoded data removed]",
      "text/plain": [
       "<Figure size 432x288 with 1 Axes>"
      ]
     },
     "metadata": {
      "needs_background": "light"
     },
     "output_type": "display_data"
    }
   ],
   "source": [
    "test_image = X_test[3500]\n",
    "\n",
    "test_image = np.array(test_image)\n",
    "test_image = test_image.reshape(1,28,28,1)\n",
    "prediction = model4.predict_classes(test_image)\n",
    "\n",
    "print(prediction)\n",
    "plt.imshow(X_test[3500])"
   ]
  },
  {
   "cell_type": "code",
   "execution_count": 241,
   "metadata": {},
   "outputs": [
    {
     "data": {
      "text/plain": [
       "'T'"
      ]
     },
     "execution_count": 241,
     "metadata": {},
     "output_type": "execute_result"
    }
   ],
   "source": [
    "classes[29]"
   ]
  },
  {
   "cell_type": "code",
   "execution_count": 223,
   "metadata": {},
   "outputs": [
    {
     "name": "stdout",
     "output_type": "stream",
     "text": [
      "[4]\n"
     ]
    },
    {
     "data": {
      "text/plain": [
       "<matplotlib.image.AxesImage at 0x2218d2c6160>"
      ]
     },
     "execution_count": 223,
     "metadata": {},
     "output_type": "execute_result"
    },
    {
     "data": {
      "image/png": "[encoded data removed]",
      "text/plain": [
       "<Figure size 432x288 with 1 Axes>"
      ]
     },
     "metadata": {
      "needs_background": "light"
     },
     "output_type": "display_data"
    }
   ],
   "source": [
    "test_image = X_test[500]\n",
    "\n",
    "test_image = np.array(test_image)\n",
    "test_image = test_image.reshape(1,28,28,1)\n",
    "prediction = model4.predict_classes(test_image)\n",
    "\n",
    "print(prediction)\n",
    "plt.imshow(X_test[500])"
   ]
  },
  {
   "cell_type": "code",
   "execution_count": 224,
   "metadata": {},
   "outputs": [
    {
     "data": {
      "text/plain": [
       "'4'"
      ]
     },
     "execution_count": 224,
     "metadata": {},
     "output_type": "execute_result"
    }
   ],
   "source": [
    "classes[4]"
   ]
  },
  {
   "cell_type": "code",
   "execution_count": 225,
   "metadata": {},
   "outputs": [
    {
     "name": "stdout",
     "output_type": "stream",
     "text": [
      "[39]\n"
     ]
    },
    {
     "data": {
      "text/plain": [
       "<matplotlib.image.AxesImage at 0x2218c9dcf70>"
      ]
     },
     "execution_count": 225,
     "metadata": {},
     "output_type": "execute_result"
    },
    {
     "data": {
      "image/png": "[encoded data removed]",
      "text/plain": [
       "<Figure size 432x288 with 1 Axes>"
      ]
     },
     "metadata": {
      "needs_background": "light"
     },
     "output_type": "display_data"
    }
   ],
   "source": [
    "test_image = X_test[10000]\n",
    "\n",
    "test_image = np.array(test_image)\n",
    "test_image = test_image.reshape(1,28,28,1)\n",
    "prediction = model4.predict_classes(test_image)\n",
    "\n",
    "print(prediction)\n",
    "plt.imshow(X_test[10000])"
   ]
  },
  {
   "cell_type": "code",
   "execution_count": 226,
   "metadata": {},
   "outputs": [
    {
     "data": {
      "text/plain": [
       "'d'"
      ]
     },
     "execution_count": 226,
     "metadata": {},
     "output_type": "execute_result"
    }
   ],
   "source": [
    "classes[39]"
   ]
  },
  {
   "cell_type": "code",
   "execution_count": null,
   "metadata": {},
   "outputs": [],
   "source": []
  }
 ],
 "metadata": {
  "kernelspec": {
   "display_name": "Python 3",
   "language": "python",
   "name": "python3"
  },
  "language_info": {
   "codemirror_mode": {
    "name": "ipython",
    "version": 3
   },
   "file_extension": ".py",
   "mimetype": "text/x-python",
   "name": "python",
   "nbconvert_exporter": "python",
   "pygments_lexer": "ipython3",
   "version": "3.8.5"
  }
 },
 "nbformat": 4,
 "nbformat_minor": 4
}
