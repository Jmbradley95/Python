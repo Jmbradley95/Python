{
 "cells": [
  {
   "cell_type": "code",
   "execution_count": 49,
   "metadata": {},
   "outputs": [],
   "source": [
    "import requests\n",
    "from bs4 import BeautifulSoup\n",
    "import pprint"
   ]
  },
  {
   "cell_type": "code",
   "execution_count": 50,
   "metadata": {},
   "outputs": [],
   "source": [
    "# res = requests --> stores return value in a variable. \n",
    "#('') --> url that you are wanting data from.\n",
    "# get --> GET method shows that your're trying to get or retrieve data.\n"
   ]
  },
  {
   "cell_type": "code",
   "execution_count": 51,
   "metadata": {
    "scrolled": true
   },
   "outputs": [
    {
     "name": "stdout",
     "output_type": "stream",
     "text": [
      "<Response [200]>\n"
     ]
    }
   ],
   "source": [
    "res = requests.get('https://news.ycombinator.com/')\n",
    "print(res)"
   ]
  },
  {
   "cell_type": "code",
   "execution_count": 52,
   "metadata": {},
   "outputs": [
    {
     "data": {
      "text/plain": [
       "\"\\nResponse of 200 means the status of the retrieval was successful.\\nResponse of 404 means it was not found.\\n\\nCan do a if/else statement for better look \\n    --> if response:\\n            print('Success!')\\n        else:\\n            print('An error has occured.')\\n            \\ncan type in print(res.text) to get html file\\n\\nmore ways can be done with httperror\\n\""
      ]
     },
     "execution_count": 52,
     "metadata": {},
     "output_type": "execute_result"
    }
   ],
   "source": [
    "\"\"\"\n",
    "Response of 200 means the status of the retrieval was successful.\n",
    "Response of 404 means it was not found.\n",
    "\n",
    "Can do a if/else statement for better look \n",
    "    --> if response:\n",
    "            print('Success!')\n",
    "        else:\n",
    "            print('An error has occured.')\n",
    "            \n",
    "can type in print(res.text) to get html file\n",
    "\n",
    "more ways can be done with httperror\n",
    "\"\"\" "
   ]
  },
  {
   "cell_type": "code",
   "execution_count": 53,
   "metadata": {},
   "outputs": [],
   "source": [
    "soup = BeautifulSoup(res.text, 'html.parser')"
   ]
  },
  {
   "cell_type": "code",
   "execution_count": 54,
   "metadata": {},
   "outputs": [
    {
     "name": "stdout",
     "output_type": "stream",
     "text": [
      "<html lang=\"en\" op=\"news\"><head><meta content=\"origin\" name=\"referrer\"/><meta content=\"width=device-width, initial-scale=1.0\" name=\"viewport\"/><link href=\"news.css?oYk3HJ0qIREaw7qCDSOC\" rel=\"stylesheet\" type=\"text/css\"/>\n",
      "<link href=\"favicon.ico\" rel=\"shortcut icon\"/>\n",
      "<link href=\"rss\" rel=\"alternate\" title=\"RSS\" type=\"application/rss+xml\"/>\n",
      "<title>Hacker News</title></head><body><center><table bgcolor=\"#f6f6ef\" border=\"0\" cellpadding=\"0\" cellspacing=\"0\" id=\"hnmain\" width=\"85%\">\n",
      "<tr><td bgcolor=\"#ff6600\"><table border=\"0\" cellpadding=\"0\" cellspacing=\"0\" style=\"padding:2px\" width=\"100%\"><tr><td style=\"width:18px;padding-right:4px\"><a href=\"https://news.ycombinator.com\"><img height=\"18\" src=\"y18.gif\" style=\"border:1px white solid;\" width=\"18\"/></a></td>\n",
      "<td style=\"line-height:12pt; height:10px;\"><span class=\"pagetop\"><b class=\"hnname\"><a href=\"news\">Hacker News</a></b>\n",
      "<a href=\"newest\">new</a> | <a href=\"front\">past</a> | <a href=\"newcomments\">comments</a> | <a href=\"ask\">ask</a> | <a href=\"show\">show</a> | <a href=\"jobs\">jobs</a> | <a href=\"submit\">submit</a> </span></td><td style=\"text-align:right;padding-right:4px;\"><span class=\"pagetop\">\n",
      "<a href=\"login?goto=news\">login</a>\n",
      "</span></td>\n",
      "</tr></table></td></tr>\n",
      "<tr id=\"pagespace\" style=\"height:10px\" title=\"\"></tr><tr><td><table border=\"0\" cellpadding=\"0\" cellspacing=\"0\" class=\"itemlist\">\n",
      "<tr class=\"athing\" id=\"28788373\">\n",
      "<td align=\"right\" class=\"title\" valign=\"top\"><span class=\"rank\">1.</span></td> <td class=\"votelinks\" valign=\"top\"><center><a href=\"vote?id=28788373&amp;how=up&amp;goto=news\" id=\"up_28788373\"><div class=\"votearrow\" title=\"upvote\"></div></a></center></td><td class=\"title\"><a class=\"storylink\" href=\"https://object-storage-name-generator.com/\">AWS S3? Cloudflare R2? We think we know what's coming next</a><span class=\"sitebit comhead\"> (<a href=\"from?site=object-storage-name-generator.com\"><span class=\"sitestr\">object-storage-name-generator.com</span></a>)</span></td></tr><tr><td colspan=\"2\"></td><td class=\"subtext\">\n",
      "<span class=\"score\" id=\"score_28788373\">61 points</span> by <a class=\"hnuser\" href=\"user?id=cloudfalcon\">cloudfalcon</a> <span class=\"age\" title=\"2021-10-07T16:18:26\"><a href=\"item?id=28788373\">48 minutes ago</a></span> <span id=\"unv_28788373\"></span> | <a href=\"hide?id=28788373&amp;goto=news\">hide</a> | <a href=\"item?id=28788373\">27 comments</a> </td></tr>\n",
      "<tr class=\"spacer\" style=\"height:5px\"></tr>\n",
      "<tr class=\"athing\" id=\"28786958\">\n",
      "<td align=\"right\" class=\"title\" valign=\"top\"><span class=\"rank\">2.</span></td> <td class=\"votelinks\" valign=\"top\"><center><a href=\"vote?id=28786958&amp;how=up&amp;goto=news\" id=\"up_28786958\"><div class=\"votearrow\" title=\"upvote\"></div></a></center></td><td class=\"title\"><a class=\"storylink\" href=\"https://www.assemblyai.com/blog/how-to-train-large-deep-learning-models-as-a-startup/\">How to train large deep learning models as a startup</a><span class=\"sitebit comhead\"> (<a href=\"from?site=assemblyai.com\"><span class=\"sitestr\">assemblyai.com</span></a>)</span></td></tr><tr><td colspan=\"2\"></td><td class=\"subtext\">\n",
      "<span class=\"score\" id=\"score_28786958\">106 points</span> by <a class=\"hnuser\" href=\"user?id=dylanbfox\">dylanbfox</a> <span class=\"age\" title=\"2021-10-07T14:45:30\"><a href=\"item?id=28786958\">2 hours ago</a></span> <span id=\"unv_28786958\"></span> | <a href=\"hide?id=28786958&amp;goto=news\">hide</a> | <a href=\"item?id=28786958\">29 comments</a> </td></tr>\n",
      "<tr class=\"spacer\" style=\"height:5px\"></tr>\n",
      "<tr class=\"athing\" id=\"28787221\">\n",
      "<td align=\"right\" class=\"title\" valign=\"top\"><span class=\"rank\">3.</span></td> <td class=\"votelinks\" valign=\"top\"><center><a href=\"vote?id=28787221&amp;how=up&amp;goto=news\" id=\"up_28787221\"><div class=\"votearrow\" title=\"upvote\"></div></a></center></td><td class=\"title\"><a class=\"storylink\" href=\"https://mbuffett.com/posts/chess_improvement_thoughts/\">Thoughts on chess improvement, after gaining 600 points in 6 months</a><span class=\"sitebit comhead\"> (<a href=\"from?site=mbuffett.com\"><span class=\"sitestr\">mbuffett.com</span></a>)</span></td></tr><tr><td colspan=\"2\"></td><td class=\"subtext\">\n",
      "<span class=\"score\" id=\"score_28787221\">93 points</span> by <a class=\"hnuser\" href=\"user?id=marcusbuffett\">marcusbuffett</a> <span class=\"age\" title=\"2021-10-07T15:02:00\"><a href=\"item?id=28787221\">2 hours ago</a></span> <span id=\"unv_28787221\"></span> | <a href=\"hide?id=28787221&amp;goto=news\">hide</a> | <a href=\"item?id=28787221\">55 comments</a> </td></tr>\n",
      "<tr class=\"spacer\" style=\"height:5px\"></tr>\n",
      "<tr class=\"athing\" id=\"28788715\">\n",
      "<td align=\"right\" class=\"title\" valign=\"top\"><span class=\"rank\">4.</span></td> <td class=\"votelinks\" valign=\"top\"><center><a href=\"vote?id=28788715&amp;how=up&amp;goto=news\" id=\"up_28788715\"><div class=\"votearrow\" title=\"upvote\"></div></a></center></td><td class=\"title\"><a class=\"storylink\" href=\"https://trevorklee.com/a-lesser-known-mechanism-for-alcohol-tolerance/\">A lesser known mechanism for alcohol tolerance</a><span class=\"sitebit comhead\"> (<a href=\"from?site=trevorklee.com\"><span class=\"sitestr\">trevorklee.com</span></a>)</span></td></tr><tr><td colspan=\"2\"></td><td class=\"subtext\">\n",
      "<span class=\"score\" id=\"score_28788715\">21 points</span> by <a class=\"hnuser\" href=\"user?id=klevertree\">klevertree</a> <span class=\"age\" title=\"2021-10-07T16:38:55\"><a href=\"item?id=28788715\">27 minutes ago</a></span> <span id=\"unv_28788715\"></span> | <a href=\"hide?id=28788715&amp;goto=news\">hide</a> | <a href=\"item?id=28788715\">discuss</a> </td></tr>\n",
      "<tr class=\"spacer\" style=\"height:5px\"></tr>\n",
      "<tr class=\"athing\" id=\"28788173\">\n",
      "<td align=\"right\" class=\"title\" valign=\"top\"><span class=\"rank\">5.</span></td> <td class=\"votelinks\" valign=\"top\"><center><a href=\"vote?id=28788173&amp;how=up&amp;goto=news\" id=\"up_28788173\"><div class=\"votearrow\" title=\"upvote\"></div></a></center></td><td class=\"title\"><a class=\"storylink\" href=\"https://github.blog/2021-10-07-github-advisory-database-now-powers-npm-audit/\">GitHub Advisory Database now powers NPM audit</a><span class=\"sitebit comhead\"> (<a href=\"from?site=github.blog\"><span class=\"sitestr\">github.blog</span></a>)</span></td></tr><tr><td colspan=\"2\"></td><td class=\"subtext\">\n",
      "<span class=\"score\" id=\"score_28788173\">21 points</span> by <a class=\"hnuser\" href=\"user?id=todsacerdoti\">todsacerdoti</a> <span class=\"age\" title=\"2021-10-07T16:06:23\"><a href=\"item?id=28788173\">1 hour ago</a></span> <span id=\"unv_28788173\"></span> | <a href=\"hide?id=28788173&amp;goto=news\">hide</a> | <a href=\"item?id=28788173\">1 comment</a> </td></tr>\n",
      "<tr class=\"spacer\" style=\"height:5px\"></tr>\n",
      "<tr class=\"athing\" id=\"28789105\">\n",
      "<td align=\"right\" class=\"title\" valign=\"top\"><span class=\"rank\">6.</span></td> <td></td><td class=\"title\"><a class=\"storylink\" href=\"https://divehealth.com/careers/chief-marketing-officer\" rel=\"nofollow\">DiveHealth (YC S21) Is Hiring – Chief Marketing Officer</a><span class=\"sitebit comhead\"> (<a href=\"from?site=divehealth.com\"><span class=\"sitestr\">divehealth.com</span></a>)</span></td></tr><tr><td colspan=\"2\"></td><td class=\"subtext\">\n",
      "<span class=\"age\" title=\"2021-10-07T17:01:11\"><a href=\"item?id=28789105\">5 minutes ago</a></span> | <a href=\"hide?id=28789105&amp;goto=news\">hide</a> </td></tr>\n",
      "<tr class=\"spacer\" style=\"height:5px\"></tr>\n",
      "<tr class=\"athing\" id=\"28786674\">\n",
      "<td align=\"right\" class=\"title\" valign=\"top\"><span class=\"rank\">7.</span></td> <td class=\"votelinks\" valign=\"top\"><center><a href=\"vote?id=28786674&amp;how=up&amp;goto=news\" id=\"up_28786674\"><div class=\"votearrow\" title=\"upvote\"></div></a></center></td><td class=\"title\"><a class=\"storylink\" href=\"https://2019.eurobsdcon.org/slides/NUMA%20Optimizations%20in%20the%20FreeBSD%20Network%20Stack%20-%20Drew%20Gallatin.pdf\">NUMA Siloing in the FreeBSD Network Stack (2019) [pdf]</a><span class=\"sitebit comhead\"> (<a href=\"from?site=eurobsdcon.org\"><span class=\"sitestr\">eurobsdcon.org</span></a>)</span></td></tr><tr><td colspan=\"2\"></td><td class=\"subtext\">\n",
      "<span class=\"score\" id=\"score_28786674\">40 points</span> by <a class=\"hnuser\" href=\"user?id=harporoeder\">harporoeder</a> <span class=\"age\" title=\"2021-10-07T14:26:11\"><a href=\"item?id=28786674\">2 hours ago</a></span> <span id=\"unv_28786674\"></span> | <a href=\"hide?id=28786674&amp;goto=news\">hide</a> | <a href=\"item?id=28786674\">11 comments</a> </td></tr>\n",
      "<tr class=\"spacer\" style=\"height:5px\"></tr>\n",
      "<tr class=\"athing\" id=\"28788821\">\n",
      "<td align=\"right\" class=\"title\" valign=\"top\"><span class=\"rank\">8.</span></td> <td class=\"votelinks\" valign=\"top\"><center><a href=\"vote?id=28788821&amp;how=up&amp;goto=news\" id=\"up_28788821\"><div class=\"votearrow\" title=\"upvote\"></div></a></center></td><td class=\"title\"><a class=\"storylink\" href=\"https://slate.com/technology/2021/10/facebook-unfollow-everything-cease-desist.html\">Facebook banned me for life because I help people use it less</a><span class=\"sitebit comhead\"> (<a href=\"from?site=slate.com\"><span class=\"sitestr\">slate.com</span></a>)</span></td></tr><tr><td colspan=\"2\"></td><td class=\"subtext\">\n",
      "<span class=\"score\" id=\"score_28788821\">50 points</span> by <a class=\"hnuser\" href=\"user?id=louisbarclay\">louisbarclay</a> <span class=\"age\" title=\"2021-10-07T16:45:44\"><a href=\"item?id=28788821\">21 minutes ago</a></span> <span id=\"unv_28788821\"></span> | <a href=\"hide?id=28788821&amp;goto=news\">hide</a> | <a href=\"item?id=28788821\">9 comments</a> </td></tr>\n",
      "<tr class=\"spacer\" style=\"height:5px\"></tr>\n",
      "<tr class=\"athing\" id=\"28771006\">\n",
      "<td align=\"right\" class=\"title\" valign=\"top\"><span class=\"rank\">9.</span></td> <td class=\"votelinks\" valign=\"top\"><center><a href=\"vote?id=28771006&amp;how=up&amp;goto=news\" id=\"up_28771006\"><div class=\"votearrow\" title=\"upvote\"></div></a></center></td><td class=\"title\"><a class=\"storylink\" href=\"https://blog.rongarret.info/2009/10/catalog-of-wealth-creation-mechanisms.html\">A catalog of wealth-creation mechanisms (2009)</a><span class=\"sitebit comhead\"> (<a href=\"from?site=rongarret.info\"><span class=\"sitestr\">rongarret.info</span></a>)</span></td></tr><tr><td colspan=\"2\"></td><td class=\"subtext\">\n",
      "<span class=\"score\" id=\"score_28771006\">198 points</span> by <a class=\"hnuser\" href=\"user?id=xojoc\">xojoc</a> <span class=\"age\" title=\"2021-10-06T09:39:48\"><a href=\"item?id=28771006\">7 hours ago</a></span> <span id=\"unv_28771006\"></span> | <a href=\"hide?id=28771006&amp;goto=news\">hide</a> | <a href=\"item?id=28771006\">70 comments</a> </td></tr>\n",
      "<tr class=\"spacer\" style=\"height:5px\"></tr>\n",
      "<tr class=\"athing\" id=\"28787007\">\n",
      "<td align=\"right\" class=\"title\" valign=\"top\"><span class=\"rank\">10.</span></td> <td class=\"votelinks\" valign=\"top\"><center><a href=\"vote?id=28787007&amp;how=up&amp;goto=news\" id=\"up_28787007\"><div class=\"votearrow\" title=\"upvote\"></div></a></center></td><td class=\"title\"><a class=\"storylink\" href=\"https://www.softwareatscale.dev/p/software-at-scale-34-faster-python\">Faster Python with Guido van Rossum</a><span class=\"sitebit comhead\"> (<a href=\"from?site=softwareatscale.dev\"><span class=\"sitestr\">softwareatscale.dev</span></a>)</span></td></tr><tr><td colspan=\"2\"></td><td class=\"subtext\">\n",
      "<span class=\"score\" id=\"score_28787007\">145 points</span> by <a class=\"hnuser\" href=\"user?id=WithinReason\">WithinReason</a> <span class=\"age\" title=\"2021-10-07T14:48:21\"><a href=\"item?id=28787007\">2 hours ago</a></span> <span id=\"unv_28787007\"></span> | <a href=\"hide?id=28787007&amp;goto=news\">hide</a> | <a href=\"item?id=28787007\">117 comments</a> </td></tr>\n",
      "<tr class=\"spacer\" style=\"height:5px\"></tr>\n",
      "<tr class=\"athing\" id=\"28764753\">\n",
      "<td align=\"right\" class=\"title\" valign=\"top\"><span class=\"rank\">11.</span></td> <td class=\"votelinks\" valign=\"top\"><center><a href=\"vote?id=28764753&amp;how=up&amp;goto=news\" id=\"up_28764753\"><div class=\"votearrow\" title=\"upvote\"></div></a></center></td><td class=\"title\"><a class=\"storylink\" href=\"https://nevalalee.wordpress.com/2017/08/16/the-creeps-of-the-cosmos/\">The Creeps of the Cosmos (2017)</a><span class=\"sitebit comhead\"> (<a href=\"from?site=nevalalee.wordpress.com\"><span class=\"sitestr\">nevalalee.wordpress.com</span></a>)</span></td></tr><tr><td colspan=\"2\"></td><td class=\"subtext\">\n",
      "<span class=\"score\" id=\"score_28764753\">10 points</span> by <a class=\"hnuser\" href=\"user?id=benbreen\">benbreen</a> <span class=\"age\" title=\"2021-10-05T19:55:41\"><a href=\"item?id=28764753\">1 hour ago</a></span> <span id=\"unv_28764753\"></span> | <a href=\"hide?id=28764753&amp;goto=news\">hide</a> | <a href=\"item?id=28764753\">1 comment</a> </td></tr>\n",
      "<tr class=\"spacer\" style=\"height:5px\"></tr>\n",
      "<tr class=\"athing\" id=\"28771841\">\n",
      "<td align=\"right\" class=\"title\" valign=\"top\"><span class=\"rank\">12.</span></td> <td class=\"votelinks\" valign=\"top\"><center><a href=\"vote?id=28771841&amp;how=up&amp;goto=news\" id=\"up_28771841\"><div class=\"votearrow\" title=\"upvote\"></div></a></center></td><td class=\"title\"><a class=\"storylink\" href=\"https://github.com/djanderson/aho\">A Git Implementation in Awk</a><span class=\"sitebit comhead\"> (<a href=\"from?site=github.com/djanderson\"><span class=\"sitestr\">github.com/djanderson</span></a>)</span></td></tr><tr><td colspan=\"2\"></td><td class=\"subtext\">\n",
      "<span class=\"score\" id=\"score_28771841\">194 points</span> by <a class=\"hnuser\" href=\"user?id=rohitpaulk\">rohitpaulk</a> <span class=\"age\" title=\"2021-10-06T11:36:40\"><a href=\"item?id=28771841\">8 hours ago</a></span> <span id=\"unv_28771841\"></span> | <a href=\"hide?id=28771841&amp;goto=news\">hide</a> | <a href=\"item?id=28771841\">55 comments</a> </td></tr>\n",
      "<tr class=\"spacer\" style=\"height:5px\"></tr>\n",
      "<tr class=\"athing\" id=\"28784868\">\n",
      "<td align=\"right\" class=\"title\" valign=\"top\"><span class=\"rank\">13.</span></td> <td class=\"votelinks\" valign=\"top\"><center><a href=\"vote?id=28784868&amp;how=up&amp;goto=news\" id=\"up_28784868\"><div class=\"votearrow\" title=\"upvote\"></div></a></center></td><td class=\"title\"><a class=\"storylink\" href=\"https://metebalci.com/blog/hello-ipv6/\">Hello IPv6: a minimal tutorial for IPv4 users</a><span class=\"sitebit comhead\"> (<a href=\"from?site=metebalci.com\"><span class=\"sitestr\">metebalci.com</span></a>)</span></td></tr><tr><td colspan=\"2\"></td><td class=\"subtext\">\n",
      "<span class=\"score\" id=\"score_28784868\">80 points</span> by <a class=\"hnuser\" href=\"user?id=notmine1337\">notmine1337</a> <span class=\"age\" title=\"2021-10-07T11:28:09\"><a href=\"item?id=28784868\">5 hours ago</a></span> <span id=\"unv_28784868\"></span> | <a href=\"hide?id=28784868&amp;goto=news\">hide</a> | <a href=\"item?id=28784868\">32 comments</a> </td></tr>\n",
      "<tr class=\"spacer\" style=\"height:5px\"></tr>\n",
      "<tr class=\"athing\" id=\"28785897\">\n",
      "<td align=\"right\" class=\"title\" valign=\"top\"><span class=\"rank\">14.</span></td> <td class=\"votelinks\" valign=\"top\"><center><a href=\"vote?id=28785897&amp;how=up&amp;goto=news\" id=\"up_28785897\"><div class=\"votearrow\" title=\"upvote\"></div></a></center></td><td class=\"title\"><a class=\"storylink\" href=\"https://juba.github.io/robservable/\">Robservable: Use of Observable notebooks (or parts of them) as htmlwidgets in R</a><span class=\"sitebit comhead\"> (<a href=\"from?site=juba.github.io\"><span class=\"sitestr\">juba.github.io</span></a>)</span></td></tr><tr><td colspan=\"2\"></td><td class=\"subtext\">\n",
      "<span class=\"score\" id=\"score_28785897\">33 points</span> by <a class=\"hnuser\" href=\"user?id=sebg\">sebg</a> <span class=\"age\" title=\"2021-10-07T13:23:51\"><a href=\"item?id=28785897\">3 hours ago</a></span> <span id=\"unv_28785897\"></span> | <a href=\"hide?id=28785897&amp;goto=news\">hide</a> | <a href=\"item?id=28785897\">2 comments</a> </td></tr>\n",
      "<tr class=\"spacer\" style=\"height:5px\"></tr>\n",
      "<tr class=\"athing\" id=\"28787637\">\n",
      "<td align=\"right\" class=\"title\" valign=\"top\"><span class=\"rank\">15.</span></td> <td class=\"votelinks\" valign=\"top\"><center><a href=\"vote?id=28787637&amp;how=up&amp;goto=news\" id=\"up_28787637\"><div class=\"votearrow\" title=\"upvote\"></div></a></center></td><td class=\"title\"><a class=\"storylink\" href=\"https://github.com/graphsignal/graphsignal\">Show HN: Graphsignal – Production Model Monitoring: Anomalies, Drift, Exceptions</a><span class=\"sitebit comhead\"> (<a href=\"from?site=github.com/graphsignal\"><span class=\"sitestr\">github.com/graphsignal</span></a>)</span></td></tr><tr><td colspan=\"2\"></td><td class=\"subtext\">\n",
      "<span class=\"score\" id=\"score_28787637\">16 points</span> by <a class=\"hnuser\" href=\"user?id=dmitrim\">dmitrim</a> <span class=\"age\" title=\"2021-10-07T15:31:34\"><a href=\"item?id=28787637\">1 hour ago</a></span> <span id=\"unv_28787637\"></span> | <a href=\"hide?id=28787637&amp;goto=news\">hide</a> | <a href=\"item?id=28787637\">1 comment</a> </td></tr>\n",
      "<tr class=\"spacer\" style=\"height:5px\"></tr>\n",
      "<tr class=\"athing\" id=\"28785349\">\n",
      "<td align=\"right\" class=\"title\" valign=\"top\"><span class=\"rank\">16.</span></td> <td class=\"votelinks\" valign=\"top\"><center><a href=\"vote?id=28785349&amp;how=up&amp;goto=news\" id=\"up_28785349\"><div class=\"votearrow\" title=\"upvote\"></div></a></center></td><td class=\"title\"><a class=\"storylink\" href=\"https://www.reuters.com/technology/exclusive-dutch-watchdog-finds-apple-app-store-payment-rules-anti-competitive-2021-10-07/\">Dutch watchdog finds Apple App Store payment rules anti-competitive</a><span class=\"sitebit comhead\"> (<a href=\"from?site=reuters.com\"><span class=\"sitestr\">reuters.com</span></a>)</span></td></tr><tr><td colspan=\"2\"></td><td class=\"subtext\">\n",
      "<span class=\"score\" id=\"score_28785349\">275 points</span> by <a class=\"hnuser\" href=\"user?id=d3nj4l\">d3nj4l</a> <span class=\"age\" title=\"2021-10-07T12:28:29\"><a href=\"item?id=28785349\">4 hours ago</a></span> <span id=\"unv_28785349\"></span> | <a href=\"hide?id=28785349&amp;goto=news\">hide</a> | <a href=\"item?id=28785349\">112 comments</a> </td></tr>\n",
      "<tr class=\"spacer\" style=\"height:5px\"></tr>\n",
      "<tr class=\"athing\" id=\"28786250\">\n",
      "<td align=\"right\" class=\"title\" valign=\"top\"><span class=\"rank\">17.</span></td> <td class=\"votelinks\" valign=\"top\"><center><a href=\"vote?id=28786250&amp;how=up&amp;goto=news\" id=\"up_28786250\"><div class=\"votearrow\" title=\"upvote\"></div></a></center></td><td class=\"title\"><a class=\"storylink\" href=\"https://www.economist.com/leaders/2021/10/09/facebook-is-nearing-a-reputational-point-of-no-return\">Facebook is nearing a reputational point of no return</a><span class=\"sitebit comhead\"> (<a href=\"from?site=economist.com\"><span class=\"sitestr\">economist.com</span></a>)</span></td></tr><tr><td colspan=\"2\"></td><td class=\"subtext\">\n",
      "<span class=\"score\" id=\"score_28786250\">308 points</span> by <a class=\"hnuser\" href=\"user?id=sidcool\">sidcool</a> <span class=\"age\" title=\"2021-10-07T13:52:33\"><a href=\"item?id=28786250\">3 hours ago</a></span> <span id=\"unv_28786250\"></span> | <a href=\"hide?id=28786250&amp;goto=news\">hide</a> | <a href=\"item?id=28786250\">302 comments</a> </td></tr>\n",
      "<tr class=\"spacer\" style=\"height:5px\"></tr>\n",
      "<tr class=\"athing\" id=\"28770787\">\n",
      "<td align=\"right\" class=\"title\" valign=\"top\"><span class=\"rank\">18.</span></td> <td class=\"votelinks\" valign=\"top\"><center><a href=\"vote?id=28770787&amp;how=up&amp;goto=news\" id=\"up_28770787\"><div class=\"votearrow\" title=\"upvote\"></div></a></center></td><td class=\"title\"><a class=\"storylink\" href=\"https://mastery.games/post/board-gaming-in-figma/\">Board Gaming in Figma</a><span class=\"sitebit comhead\"> (<a href=\"from?site=mastery.games\"><span class=\"sitestr\">mastery.games</span></a>)</span></td></tr><tr><td colspan=\"2\"></td><td class=\"subtext\">\n",
      "<span class=\"score\" id=\"score_28770787\">21 points</span> by <a class=\"hnuser\" href=\"user?id=BerislavLopac\">BerislavLopac</a> <span class=\"age\" title=\"2021-10-06T09:05:48\"><a href=\"item?id=28770787\">2 hours ago</a></span> <span id=\"unv_28770787\"></span> | <a href=\"hide?id=28770787&amp;goto=news\">hide</a> | <a href=\"item?id=28770787\">10 comments</a> </td></tr>\n",
      "<tr class=\"spacer\" style=\"height:5px\"></tr>\n",
      "<tr class=\"athing\" id=\"28771243\">\n",
      "<td align=\"right\" class=\"title\" valign=\"top\"><span class=\"rank\">19.</span></td> <td class=\"votelinks\" valign=\"top\"><center><a href=\"vote?id=28771243&amp;how=up&amp;goto=news\" id=\"up_28771243\"><div class=\"votearrow\" title=\"upvote\"></div></a></center></td><td class=\"title\"><a class=\"storylink\" href=\"http://www.roundcrisis.com/2021/09/28/bytesize-architecture-sessions/\" rel=\"nofollow\">Bytesize Architecture Sessions</a><span class=\"sitebit comhead\"> (<a href=\"from?site=roundcrisis.com\"><span class=\"sitestr\">roundcrisis.com</span></a>)</span></td></tr><tr><td colspan=\"2\"></td><td class=\"subtext\">\n",
      "<span class=\"score\" id=\"score_28771243\">6 points</span> by <a class=\"hnuser\" href=\"user?id=blah_blah\">blah_blah</a> <span class=\"age\" title=\"2021-10-06T10:15:20\"><a href=\"item?id=28771243\">1 hour ago</a></span> <span id=\"unv_28771243\"></span> | <a href=\"hide?id=28771243&amp;goto=news\">hide</a> | <a href=\"item?id=28771243\">discuss</a> </td></tr>\n",
      "<tr class=\"spacer\" style=\"height:5px\"></tr>\n",
      "<tr class=\"athing\" id=\"28787766\">\n",
      "<td align=\"right\" class=\"title\" valign=\"top\"><span class=\"rank\">20.</span></td> <td class=\"votelinks\" valign=\"top\"><center><a href=\"vote?id=28787766&amp;how=up&amp;goto=news\" id=\"up_28787766\"><div class=\"votearrow\" title=\"upvote\"></div></a></center></td><td class=\"title\"><a class=\"storylink\" href=\"https://www.techradar.com/uk/amp/news/facebook-ends-wfh-forever-rule-after-mega-outage\">Employees given three months to return to Facebook office</a><span class=\"sitebit comhead\"> (<a href=\"from?site=techradar.com\"><span class=\"sitestr\">techradar.com</span></a>)</span></td></tr><tr><td colspan=\"2\"></td><td class=\"subtext\">\n",
      "<span class=\"score\" id=\"score_28787766\">99 points</span> by <a class=\"hnuser\" href=\"user?id=jmfldn\">jmfldn</a> <span class=\"age\" title=\"2021-10-07T15:41:21\"><a href=\"item?id=28787766\">1 hour ago</a></span> <span id=\"unv_28787766\"></span> | <a href=\"hide?id=28787766&amp;goto=news\">hide</a> | <a href=\"item?id=28787766\">73 comments</a> </td></tr>\n",
      "<tr class=\"spacer\" style=\"height:5px\"></tr>\n",
      "<tr class=\"athing\" id=\"28784792\">\n",
      "<td align=\"right\" class=\"title\" valign=\"top\"><span class=\"rank\">21.</span></td> <td class=\"votelinks\" valign=\"top\"><center><a href=\"vote?id=28784792&amp;how=up&amp;goto=news\" id=\"up_28784792\"><div class=\"votearrow\" title=\"upvote\"></div></a></center></td><td class=\"title\"><a class=\"storylink\" href=\"https://pudding.cool/2018/02/stand-up/\">The Structure of a Stand-Up Comedy (2018)</a><span class=\"sitebit comhead\"> (<a href=\"from?site=pudding.cool\"><span class=\"sitestr\">pudding.cool</span></a>)</span></td></tr><tr><td colspan=\"2\"></td><td class=\"subtext\">\n",
      "<span class=\"score\" id=\"score_28784792\">63 points</span> by <a class=\"hnuser\" href=\"user?id=Brajeshwar\">Brajeshwar</a> <span class=\"age\" title=\"2021-10-07T11:17:12\"><a href=\"item?id=28784792\">5 hours ago</a></span> <span id=\"unv_28784792\"></span> | <a href=\"hide?id=28784792&amp;goto=news\">hide</a> | <a href=\"item?id=28784792\">8 comments</a> </td></tr>\n",
      "<tr class=\"spacer\" style=\"height:5px\"></tr>\n",
      "<tr class=\"athing\" id=\"28771179\">\n",
      "<td align=\"right\" class=\"title\" valign=\"top\"><span class=\"rank\">22.</span></td> <td class=\"votelinks\" valign=\"top\"><center><a href=\"vote?id=28771179&amp;how=up&amp;goto=news\" id=\"up_28771179\"><div class=\"votearrow\" title=\"upvote\"></div></a></center></td><td class=\"title\"><a class=\"storylink\" href=\"https://nmnh.typepad.com/rogers_archaeology_lab/2013/03/seaicekrupnik.html\">Inuits have hundreds of words for sea ice (2013)</a><span class=\"sitebit comhead\"> (<a href=\"from?site=nmnh.typepad.com\"><span class=\"sitestr\">nmnh.typepad.com</span></a>)</span></td></tr><tr><td colspan=\"2\"></td><td class=\"subtext\">\n",
      "<span class=\"score\" id=\"score_28771179\">18 points</span> by <a class=\"hnuser\" href=\"user?id=kasperni\">kasperni</a> <span class=\"age\" title=\"2021-10-06T10:06:05\"><a href=\"item?id=28771179\">3 hours ago</a></span> <span id=\"unv_28771179\"></span> | <a href=\"hide?id=28771179&amp;goto=news\">hide</a> | <a href=\"item?id=28771179\">25 comments</a> </td></tr>\n",
      "<tr class=\"spacer\" style=\"height:5px\"></tr>\n",
      "<tr class=\"athing\" id=\"28786093\">\n",
      "<td align=\"right\" class=\"title\" valign=\"top\"><span class=\"rank\">23.</span></td> <td class=\"votelinks\" valign=\"top\"><center><a href=\"vote?id=28786093&amp;how=up&amp;goto=news\" id=\"up_28786093\"><div class=\"votearrow\" title=\"upvote\"></div></a></center></td><td class=\"title\"><a class=\"storylink\" href=\"https://themarkup.org/privacy/2021/10/07/help-us-find-the-apps-that-sell-your-location\">Help Us Find the Apps That Sell Your Location</a><span class=\"sitebit comhead\"> (<a href=\"from?site=themarkup.org\"><span class=\"sitestr\">themarkup.org</span></a>)</span></td></tr><tr><td colspan=\"2\"></td><td class=\"subtext\">\n",
      "<span class=\"score\" id=\"score_28786093\">97 points</span> by <a class=\"hnuser\" href=\"user?id=giuliomagnifico\">giuliomagnifico</a> <span class=\"age\" title=\"2021-10-07T13:40:12\"><a href=\"item?id=28786093\">3 hours ago</a></span> <span id=\"unv_28786093\"></span> | <a href=\"hide?id=28786093&amp;goto=news\">hide</a> | <a href=\"item?id=28786093\">23 comments</a> </td></tr>\n",
      "<tr class=\"spacer\" style=\"height:5px\"></tr>\n",
      "<tr class=\"athing\" id=\"28786471\">\n",
      "<td align=\"right\" class=\"title\" valign=\"top\"><span class=\"rank\">24.</span></td> <td class=\"votelinks\" valign=\"top\"><center><a href=\"vote?id=28786471&amp;how=up&amp;goto=news\" id=\"up_28786471\"><div class=\"votearrow\" title=\"upvote\"></div></a></center></td><td class=\"title\"><a class=\"storylink\" href=\"https://github.com/bopwerks/omnino\">Show HN: Omnino, a windowing system for web apps, inspired by the Acme editor</a><span class=\"sitebit comhead\"> (<a href=\"from?site=github.com/bopwerks\"><span class=\"sitestr\">github.com/bopwerks</span></a>)</span></td></tr><tr><td colspan=\"2\"></td><td class=\"subtext\">\n",
      "<span class=\"score\" id=\"score_28786471\">14 points</span> by <a class=\"hnuser\" href=\"user?id=jfe\">jfe</a> <span class=\"age\" title=\"2021-10-07T14:10:56\"><a href=\"item?id=28786471\">2 hours ago</a></span> <span id=\"unv_28786471\"></span> | <a href=\"hide?id=28786471&amp;goto=news\">hide</a> | <a href=\"item?id=28786471\">1 comment</a> </td></tr>\n",
      "<tr class=\"spacer\" style=\"height:5px\"></tr>\n",
      "<tr class=\"athing\" id=\"28770907\">\n",
      "<td align=\"right\" class=\"title\" valign=\"top\"><span class=\"rank\">25.</span></td> <td class=\"votelinks\" valign=\"top\"><center><a href=\"vote?id=28770907&amp;how=up&amp;goto=news\" id=\"up_28770907\"><div class=\"votearrow\" title=\"upvote\"></div></a></center></td><td class=\"title\"><a class=\"storylink\" href=\"https://blog.benjojo.co.uk/post/interactive-x86-bootloader-tutorial\">x86 assembly doesn’t have to be scary (2018)</a><span class=\"sitebit comhead\"> (<a href=\"from?site=benjojo.co.uk\"><span class=\"sitestr\">benjojo.co.uk</span></a>)</span></td></tr><tr><td colspan=\"2\"></td><td class=\"subtext\">\n",
      "<span class=\"score\" id=\"score_28770907\">113 points</span> by <a class=\"hnuser\" href=\"user?id=aphrax\">aphrax</a> <span class=\"age\" title=\"2021-10-06T09:22:08\"><a href=\"item?id=28770907\">11 hours ago</a></span> <span id=\"unv_28770907\"></span> | <a href=\"hide?id=28770907&amp;goto=news\">hide</a> | <a href=\"item?id=28770907\">83 comments</a> </td></tr>\n",
      "<tr class=\"spacer\" style=\"height:5px\"></tr>\n",
      "<tr class=\"athing\" id=\"28781518\">\n",
      "<td align=\"right\" class=\"title\" valign=\"top\"><span class=\"rank\">26.</span></td> <td class=\"votelinks\" valign=\"top\"><center><a href=\"vote?id=28781518&amp;how=up&amp;goto=news\" id=\"up_28781518\"><div class=\"votearrow\" title=\"upvote\"></div></a></center></td><td class=\"title\"><a class=\"storylink\" href=\"https://deepmind.com/research/publications/2021/protein-complex-prediction-with-alphafold-multimer\">Protein complex prediction with AlphaFold-Multimer</a><span class=\"sitebit comhead\"> (<a href=\"from?site=deepmind.com\"><span class=\"sitestr\">deepmind.com</span></a>)</span></td></tr><tr><td colspan=\"2\"></td><td class=\"subtext\">\n",
      "<span class=\"score\" id=\"score_28781518\">166 points</span> by <a class=\"hnuser\" href=\"user?id=xbmcuser\">xbmcuser</a> <span class=\"age\" title=\"2021-10-07T03:32:45\"><a href=\"item?id=28781518\">13 hours ago</a></span> <span id=\"unv_28781518\"></span> | <a href=\"hide?id=28781518&amp;goto=news\">hide</a> | <a href=\"item?id=28781518\">20 comments</a> </td></tr>\n",
      "<tr class=\"spacer\" style=\"height:5px\"></tr>\n",
      "<tr class=\"athing\" id=\"28788481\">\n",
      "<td align=\"right\" class=\"title\" valign=\"top\"><span class=\"rank\">27.</span></td> <td class=\"votelinks\" valign=\"top\"><center><a href=\"vote?id=28788481&amp;how=up&amp;goto=news\" id=\"up_28788481\"><div class=\"votearrow\" title=\"upvote\"></div></a></center></td><td class=\"title\"><a class=\"storylink\" href=\"https://www.reddit.com/r/sysadmin/comments/q38p8x\">.club domains are not resolving</a><span class=\"sitebit comhead\"> (<a href=\"from?site=reddit.com\"><span class=\"sitestr\">reddit.com</span></a>)</span></td></tr><tr><td colspan=\"2\"></td><td class=\"subtext\">\n",
      "<span class=\"score\" id=\"score_28788481\">15 points</span> by <a class=\"hnuser\" href=\"user?id=sergiomattei\">sergiomattei</a> <span class=\"age\" title=\"2021-10-07T16:25:18\"><a href=\"item?id=28788481\">41 minutes ago</a></span> <span id=\"unv_28788481\"></span> | <a href=\"hide?id=28788481&amp;goto=news\">hide</a> | <a href=\"item?id=28788481\">3 comments</a> </td></tr>\n",
      "<tr class=\"spacer\" style=\"height:5px\"></tr>\n",
      "<tr class=\"athing\" id=\"28771673\">\n",
      "<td align=\"right\" class=\"title\" valign=\"top\"><span class=\"rank\">28.</span></td> <td class=\"votelinks\" valign=\"top\"><center><a href=\"vote?id=28771673&amp;how=up&amp;goto=news\" id=\"up_28771673\"><div class=\"votearrow\" title=\"upvote\"></div></a></center></td><td class=\"title\"><a class=\"storylink\" href=\"https://arxiv.org/abs/2011.02455\">Hints and Principles for Computer System Design, Butler Lampson 1983</a><span class=\"sitebit comhead\"> (<a href=\"from?site=arxiv.org\"><span class=\"sitestr\">arxiv.org</span></a>)</span></td></tr><tr><td colspan=\"2\"></td><td class=\"subtext\">\n",
      "<span class=\"score\" id=\"score_28771673\">23 points</span> by <a class=\"hnuser\" href=\"user?id=mbkv\">mbkv</a> <span class=\"age\" title=\"2021-10-06T11:13:32\"><a href=\"item?id=28771673\">4 hours ago</a></span> <span id=\"unv_28771673\"></span> | <a href=\"hide?id=28771673&amp;goto=news\">hide</a> | <a href=\"item?id=28771673\">4 comments</a> </td></tr>\n",
      "<tr class=\"spacer\" style=\"height:5px\"></tr>\n",
      "<tr class=\"athing\" id=\"28775313\">\n",
      "<td align=\"right\" class=\"title\" valign=\"top\"><span class=\"rank\">29.</span></td> <td class=\"votelinks\" valign=\"top\"><center><a href=\"vote?id=28775313&amp;how=up&amp;goto=news\" id=\"up_28775313\"><div class=\"votearrow\" title=\"upvote\"></div></a></center></td><td class=\"title\"><a class=\"storylink\" href=\"https://indiepaper.me\">Show HN: IndiePaper – An easy way to write and sell self-published books</a><span class=\"sitebit comhead\"> (<a href=\"from?site=indiepaper.me\"><span class=\"sitestr\">indiepaper.me</span></a>)</span></td></tr><tr><td colspan=\"2\"></td><td class=\"subtext\">\n",
      "<span class=\"score\" id=\"score_28775313\">117 points</span> by <a class=\"hnuser\" href=\"user?id=aswinmohanme\">aswinmohanme</a> <span class=\"age\" title=\"2021-10-06T16:50:30\"><a href=\"item?id=28775313\">11 hours ago</a></span> <span id=\"unv_28775313\"></span> | <a href=\"hide?id=28775313&amp;goto=news\">hide</a> | <a href=\"item?id=28775313\">38 comments</a> </td></tr>\n",
      "<tr class=\"spacer\" style=\"height:5px\"></tr>\n",
      "<tr class=\"athing\" id=\"28785602\">\n",
      "<td align=\"right\" class=\"title\" valign=\"top\"><span class=\"rank\">30.</span></td> <td class=\"votelinks\" valign=\"top\"><center><a href=\"vote?id=28785602&amp;how=up&amp;goto=news\" id=\"up_28785602\"><div class=\"votearrow\" title=\"upvote\"></div></a></center></td><td class=\"title\"><a class=\"storylink\" href=\"https://phys.org/news/2021-01-first-ever-atomic-resolution-video-salt.html\">Atomic resolution video of salt crystals forming in real time</a><span class=\"sitebit comhead\"> (<a href=\"from?site=phys.org\"><span class=\"sitestr\">phys.org</span></a>)</span></td></tr><tr><td colspan=\"2\"></td><td class=\"subtext\">\n",
      "<span class=\"score\" id=\"score_28785602\">86 points</span> by <a class=\"hnuser\" href=\"user?id=neltnerb\">neltnerb</a> <span class=\"age\" title=\"2021-10-07T12:56:29\"><a href=\"item?id=28785602\">4 hours ago</a></span> <span id=\"unv_28785602\"></span> | <a href=\"hide?id=28785602&amp;goto=news\">hide</a> | <a href=\"item?id=28785602\">25 comments</a> </td></tr>\n",
      "<tr class=\"spacer\" style=\"height:5px\"></tr>\n",
      "<tr class=\"morespace\" style=\"height:10px\"></tr><tr><td colspan=\"2\"></td><td class=\"title\"><a class=\"morelink\" href=\"news?p=2\" rel=\"next\">More</a></td></tr>\n",
      "</table>\n",
      "</td></tr>\n",
      "<tr><td><img height=\"10\" src=\"s.gif\" width=\"0\"/><table cellpadding=\"1\" cellspacing=\"0\" width=\"100%\"><tr><td bgcolor=\"#ff6600\"></td></tr></table><br/><center><span class=\"yclinks\"><a href=\"newsguidelines.html\">Guidelines</a>\n",
      "        | <a href=\"newsfaq.html\">FAQ</a>\n",
      "        | <a href=\"lists\">Lists</a>\n",
      "        | <a href=\"https://github.com/HackerNews/API\">API</a>\n",
      "        | <a href=\"security.html\">Security</a>\n",
      "        | <a href=\"http://www.ycombinator.com/legal/\">Legal</a>\n",
      "        | <a href=\"http://www.ycombinator.com/apply/\">Apply to YC</a>\n",
      "        | <a href=\"mailto:hn@ycombinator.com\">Contact</a></span><br/><br/><form action=\"//hn.algolia.com/\" method=\"get\">Search:\n",
      "          <input autocapitalize=\"off\" autocomplete=\"false\" autocorrect=\"off\" name=\"q\" size=\"17\" spellcheck=\"false\" type=\"text\" value=\"\"/></form>\n",
      "</center></td></tr>\n",
      "</table></center></body><script src=\"hn.js?oYk3HJ0qIREaw7qCDSOC\" type=\"text/javascript\"></script></html>\n",
      "\n"
     ]
    }
   ],
   "source": [
    "print(soup)"
   ]
  },
  {
   "cell_type": "code",
   "execution_count": 55,
   "metadata": {},
   "outputs": [],
   "source": [
    "#soup.find_all('') --> finds whatever element you input a, div, class, etc.\n",
    "#soup.find('') --> finds specifically whatever element you input a, div, class,etc.\n",
    "#soup.select() --> .____ finds particular class\n",
    "#soup.select() --> #____ finds particular id\n"
   ]
  },
  {
   "cell_type": "code",
   "execution_count": 56,
   "metadata": {},
   "outputs": [
    {
     "name": "stdout",
     "output_type": "stream",
     "text": [
      "[<a class=\"storylink\" href=\"https://object-storage-name-generator.com/\">AWS S3? Cloudflare R2? We think we know what's coming next</a>, <a class=\"storylink\" href=\"https://www.assemblyai.com/blog/how-to-train-large-deep-learning-models-as-a-startup/\">How to train large deep learning models as a startup</a>, <a class=\"storylink\" href=\"https://mbuffett.com/posts/chess_improvement_thoughts/\">Thoughts on chess improvement, after gaining 600 points in 6 months</a>, <a class=\"storylink\" href=\"https://trevorklee.com/a-lesser-known-mechanism-for-alcohol-tolerance/\">A lesser known mechanism for alcohol tolerance</a>, <a class=\"storylink\" href=\"https://github.blog/2021-10-07-github-advisory-database-now-powers-npm-audit/\">GitHub Advisory Database now powers NPM audit</a>, <a class=\"storylink\" href=\"https://divehealth.com/careers/chief-marketing-officer\" rel=\"nofollow\">DiveHealth (YC S21) Is Hiring – Chief Marketing Officer</a>, <a class=\"storylink\" href=\"https://2019.eurobsdcon.org/slides/NUMA%20Optimizations%20in%20the%20FreeBSD%20Network%20Stack%20-%20Drew%20Gallatin.pdf\">NUMA Siloing in the FreeBSD Network Stack (2019) [pdf]</a>, <a class=\"storylink\" href=\"https://slate.com/technology/2021/10/facebook-unfollow-everything-cease-desist.html\">Facebook banned me for life because I help people use it less</a>, <a class=\"storylink\" href=\"https://blog.rongarret.info/2009/10/catalog-of-wealth-creation-mechanisms.html\">A catalog of wealth-creation mechanisms (2009)</a>, <a class=\"storylink\" href=\"https://www.softwareatscale.dev/p/software-at-scale-34-faster-python\">Faster Python with Guido van Rossum</a>, <a class=\"storylink\" href=\"https://nevalalee.wordpress.com/2017/08/16/the-creeps-of-the-cosmos/\">The Creeps of the Cosmos (2017)</a>, <a class=\"storylink\" href=\"https://github.com/djanderson/aho\">A Git Implementation in Awk</a>, <a class=\"storylink\" href=\"https://metebalci.com/blog/hello-ipv6/\">Hello IPv6: a minimal tutorial for IPv4 users</a>, <a class=\"storylink\" href=\"https://juba.github.io/robservable/\">Robservable: Use of Observable notebooks (or parts of them) as htmlwidgets in R</a>, <a class=\"storylink\" href=\"https://github.com/graphsignal/graphsignal\">Show HN: Graphsignal – Production Model Monitoring: Anomalies, Drift, Exceptions</a>, <a class=\"storylink\" href=\"https://www.reuters.com/technology/exclusive-dutch-watchdog-finds-apple-app-store-payment-rules-anti-competitive-2021-10-07/\">Dutch watchdog finds Apple App Store payment rules anti-competitive</a>, <a class=\"storylink\" href=\"https://www.economist.com/leaders/2021/10/09/facebook-is-nearing-a-reputational-point-of-no-return\">Facebook is nearing a reputational point of no return</a>, <a class=\"storylink\" href=\"https://mastery.games/post/board-gaming-in-figma/\">Board Gaming in Figma</a>, <a class=\"storylink\" href=\"http://www.roundcrisis.com/2021/09/28/bytesize-architecture-sessions/\" rel=\"nofollow\">Bytesize Architecture Sessions</a>, <a class=\"storylink\" href=\"https://www.techradar.com/uk/amp/news/facebook-ends-wfh-forever-rule-after-mega-outage\">Employees given three months to return to Facebook office</a>, <a class=\"storylink\" href=\"https://pudding.cool/2018/02/stand-up/\">The Structure of a Stand-Up Comedy (2018)</a>, <a class=\"storylink\" href=\"https://nmnh.typepad.com/rogers_archaeology_lab/2013/03/seaicekrupnik.html\">Inuits have hundreds of words for sea ice (2013)</a>, <a class=\"storylink\" href=\"https://themarkup.org/privacy/2021/10/07/help-us-find-the-apps-that-sell-your-location\">Help Us Find the Apps That Sell Your Location</a>, <a class=\"storylink\" href=\"https://github.com/bopwerks/omnino\">Show HN: Omnino, a windowing system for web apps, inspired by the Acme editor</a>, <a class=\"storylink\" href=\"https://blog.benjojo.co.uk/post/interactive-x86-bootloader-tutorial\">x86 assembly doesn’t have to be scary (2018)</a>, <a class=\"storylink\" href=\"https://deepmind.com/research/publications/2021/protein-complex-prediction-with-alphafold-multimer\">Protein complex prediction with AlphaFold-Multimer</a>, <a class=\"storylink\" href=\"https://www.reddit.com/r/sysadmin/comments/q38p8x\">.club domains are not resolving</a>, <a class=\"storylink\" href=\"https://arxiv.org/abs/2011.02455\">Hints and Principles for Computer System Design, Butler Lampson 1983</a>, <a class=\"storylink\" href=\"https://indiepaper.me\">Show HN: IndiePaper – An easy way to write and sell self-published books</a>, <a class=\"storylink\" href=\"https://phys.org/news/2021-01-first-ever-atomic-resolution-video-salt.html\">Atomic resolution video of salt crystals forming in real time</a>]\n"
     ]
    }
   ],
   "source": [
    "print(soup.select('.storylink'))"
   ]
  },
  {
   "cell_type": "code",
   "execution_count": 57,
   "metadata": {},
   "outputs": [
    {
     "name": "stdout",
     "output_type": "stream",
     "text": [
      "<a class=\"storylink\" href=\"https://object-storage-name-generator.com/\">AWS S3? Cloudflare R2? We think we know what's coming next</a>\n"
     ]
    }
   ],
   "source": [
    "print(soup.select('.storylink')[0])"
   ]
  },
  {
   "cell_type": "code",
   "execution_count": 58,
   "metadata": {},
   "outputs": [],
   "source": [
    "links = soup.select('.storylink')\n",
    "votes = soup.select('.score')\n",
    "subtext = soup.select('.subtext')"
   ]
  },
  {
   "cell_type": "code",
   "execution_count": 59,
   "metadata": {},
   "outputs": [
    {
     "name": "stdout",
     "output_type": "stream",
     "text": [
      "[{'link': 'https://www.economist.com/leaders/2021/10/09/facebook-is-nearing-a-reputational-point-of-no-return',\n",
      "  'title': 'Facebook is nearing a reputational point of no return',\n",
      "  'votes': 308},\n",
      " {'link': 'https://www.reuters.com/technology/exclusive-dutch-watchdog-finds-apple-app-store-payment-rules-anti-competitive-2021-10-07/',\n",
      "  'title': 'Dutch watchdog finds Apple App Store payment rules '\n",
      "           'anti-competitive',\n",
      "  'votes': 275},\n",
      " {'link': 'https://blog.rongarret.info/2009/10/catalog-of-wealth-creation-mechanisms.html',\n",
      "  'title': 'A catalog of wealth-creation mechanisms (2009)',\n",
      "  'votes': 198},\n",
      " {'link': 'https://github.com/djanderson/aho',\n",
      "  'title': 'A Git Implementation in Awk',\n",
      "  'votes': 194},\n",
      " {'link': 'https://deepmind.com/research/publications/2021/protein-complex-prediction-with-alphafold-multimer',\n",
      "  'title': 'Protein complex prediction with AlphaFold-Multimer',\n",
      "  'votes': 166},\n",
      " {'link': 'https://www.softwareatscale.dev/p/software-at-scale-34-faster-python',\n",
      "  'title': 'Faster Python with Guido van Rossum',\n",
      "  'votes': 145},\n",
      " {'link': 'https://indiepaper.me',\n",
      "  'title': 'Show HN: IndiePaper – An easy way to write and sell self-published '\n",
      "           'books',\n",
      "  'votes': 117},\n",
      " {'link': 'https://blog.benjojo.co.uk/post/interactive-x86-bootloader-tutorial',\n",
      "  'title': 'x86 assembly doesn’t have to be scary (2018)',\n",
      "  'votes': 113},\n",
      " {'link': 'https://www.assemblyai.com/blog/how-to-train-large-deep-learning-models-as-a-startup/',\n",
      "  'title': 'How to train large deep learning models as a startup',\n",
      "  'votes': 106}]\n"
     ]
    }
   ],
   "source": [
    "def sort_stories_by_votes(temp):\n",
    "    return sorted(temp, key= lambda k:k['votes'],reverse=True)\n",
    "\n",
    "def create_custom(links, subtext):\n",
    "    temp = []\n",
    "    for index, item in enumerate (links):\n",
    "        title = item.getText()\n",
    "        href = item.get('href', None)\n",
    "        vote = subtext[index].select('.score')\n",
    "        if len(vote):\n",
    "            points = int(vote[0].getText().replace(' points', ''))\n",
    "            if points > 99:\n",
    "                temp.append({'title': title, 'link': href, 'votes': points})\n",
    "    return sort_stories_by_votes(temp)\n",
    "\n",
    "pprint.pprint(create_custom(links, subtext))"
   ]
  },
  {
   "cell_type": "code",
   "execution_count": null,
   "metadata": {},
   "outputs": [],
   "source": []
  }
 ],
 "metadata": {
  "kernelspec": {
   "display_name": "Python 3",
   "language": "python",
   "name": "python3"
  },
  "language_info": {
   "codemirror_mode": {
    "name": "ipython",
    "version": 3
   },
   "file_extension": ".py",
   "mimetype": "text/x-python",
   "name": "python",
   "nbconvert_exporter": "python",
   "pygments_lexer": "ipython3",
   "version": "3.7.3"
  }
 },
 "nbformat": 4,
 "nbformat_minor": 2
}
